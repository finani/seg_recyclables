{
 "cells": [
  {
   "cell_type": "code",
   "execution_count": 1,
   "metadata": {},
   "outputs": [],
   "source": [
    "# from google.colab import drive\n",
    "# drive.mount('/content/drive')"
   ]
  },
  {
   "cell_type": "code",
   "execution_count": 2,
   "metadata": {},
   "outputs": [],
   "source": [
    "# # Install required libs\n",
    "# !pip install git+https://github.com/qubvel/segmentation_models.pytorch\n",
    "# !pip install albumentations==0.4.6"
   ]
  },
  {
   "cell_type": "code",
   "execution_count": 3,
   "metadata": {},
   "outputs": [],
   "source": [
    "# !sudo rm -rf /content/seg_recyclables\n",
    "# !git clone https://github.com/finani/seg_recyclables.git\n",
    "\n",
    "# import sys\n",
    "# sys.path.append('/content/seg_recyclables')"
   ]
  },
  {
   "cell_type": "code",
   "execution_count": 4,
   "metadata": {},
   "outputs": [
    {
     "name": "stdout",
     "output_type": "stream",
     "text": [
      "Tue Dec 28 23:52:39 2021       \n",
      "+-----------------------------------------------------------------------------+\n",
      "| NVIDIA-SMI 470.86       Driver Version: 470.86       CUDA Version: 11.4     |\n",
      "|-------------------------------+----------------------+----------------------+\n",
      "| GPU  Name        Persistence-M| Bus-Id        Disp.A | Volatile Uncorr. ECC |\n",
      "| Fan  Temp  Perf  Pwr:Usage/Cap|         Memory-Usage | GPU-Util  Compute M. |\n",
      "|                               |                      |               MIG M. |\n",
      "|===============================+======================+======================|\n",
      "|   0  NVIDIA GeForce ...  Off  | 00000000:01:00.0  On |                  N/A |\n",
      "| N/A   44C    P5    18W /  N/A |   6129MiB /  7982MiB |     20%      Default |\n",
      "|                               |                      |                  N/A |\n",
      "+-------------------------------+----------------------+----------------------+\n",
      "                                                                               \n",
      "+-----------------------------------------------------------------------------+\n",
      "| Processes:                                                                  |\n",
      "|  GPU   GI   CI        PID   Type   Process name                  GPU Memory |\n",
      "|        ID   ID                                                   Usage      |\n",
      "|=============================================================================|\n",
      "|    0   N/A  N/A      1152      G   /usr/lib/xorg/Xorg                364MiB |\n",
      "|    0   N/A  N/A      1686      G   /usr/bin/gnome-shell               79MiB |\n",
      "|    0   N/A  N/A      2139      G   ...mviewer/tv_bin/TeamViewer       29MiB |\n",
      "|    0   N/A  N/A      2610      G   ...AAAAAAAAA= --shared-files       24MiB |\n",
      "|    0   N/A  N/A      4907      G   ...AAAAAAAAA= --shared-files       74MiB |\n",
      "|    0   N/A  N/A      7261      G   ...AAAAAAAAA= --shared-files      153MiB |\n",
      "|    0   N/A  N/A    289214      G   ...AAAAAAAAA= --shared-files       18MiB |\n",
      "|    0   N/A  N/A    315669      C   -                                5375MiB |\n",
      "+-----------------------------------------------------------------------------+\n",
      "\n",
      "Your runtime has 67.3 gigabytes of available RAM\n",
      "\n",
      "You are using a high-RAM runtime!\n",
      "\n",
      "Pytorch version: 1.10.1+cu102\n",
      "Is GPU available: True\n",
      "NVIDIA GeForce RTX 2080 with Max-Q Design\n",
      "The number of GPUs available: 1\n",
      "CPU count: 12\n",
      "Cuda version: 10.2\n",
      "Cudnn version: 7.6.5\n"
     ]
    }
   ],
   "source": [
    "gpu_info = !nvidia-smi\n",
    "gpu_info = '\\n'.join(gpu_info)\n",
    "if gpu_info.find('failed') >= 0:\n",
    "  print('Not connected to a GPU')\n",
    "else:\n",
    "  print(gpu_info)\n",
    "\n",
    "print('')\n",
    "\n",
    "from psutil import virtual_memory\n",
    "ram_gb = virtual_memory().total / 1e9\n",
    "print('Your runtime has {:.1f} gigabytes of available RAM\\n'.format(ram_gb))\n",
    "\n",
    "if ram_gb < 20:\n",
    "  print('Not using a high-RAM runtime')\n",
    "else:\n",
    "  print('You are using a high-RAM runtime!')\n",
    "\n",
    "print('')\n",
    "\n",
    "import os\n",
    "import torch\n",
    "print('Pytorch version: {}'.format(torch.__version__))\n",
    "print('Is GPU available: {}'.format(torch.cuda.is_available()))\n",
    "if torch.cuda.is_available():\n",
    "  print(torch.cuda.get_device_name(0))\n",
    "  print('The number of GPUs available: {}'.format(torch.cuda.device_count())) # Tesla P100-PCIE-16GB\n",
    "DEVICE = \"cuda\" if torch.cuda.is_available() else \"cpu\"\n",
    "\n",
    "print('CPU count: {}'.format(os.cpu_count()))  # 8\n",
    "\n",
    "cuda = torch.version.cuda\n",
    "cudnn = torch.backends.cudnn.version()\n",
    "cudnn_major = cudnn // 1000\n",
    "cudnn = cudnn % 1000\n",
    "cudnn_minor = cudnn // 100\n",
    "cudnn_patch = cudnn % 100\n",
    "print('Cuda version: {}'.format(cuda)) # 11.1\n",
    "print('Cudnn version: {}.{}.{}'.format(cudnn_major, cudnn_minor, cudnn_patch)) # 8.0.5\n"
   ]
  },
  {
   "cell_type": "markdown",
   "metadata": {},
   "source": [
    "# Train Binary Segmentation\n",
    "Classes =  ['Background', 'UNKNOWN', 'General trash', 'Paper', 'Paper pack', 'Metal', 'Glass', 'Plastic', 'Styrofoam', 'Plastic bag', 'Battery', 'Clothing']"
   ]
  },
  {
   "cell_type": "markdown",
   "metadata": {},
   "source": [
    "## Configures"
   ]
  },
  {
   "cell_type": "code",
   "execution_count": 5,
   "metadata": {},
   "outputs": [],
   "source": [
    "import os\n",
    "import sys\n",
    "\n",
    "import torch\n",
    "import numpy as np\n",
    "\n",
    "import segmentation_models_pytorch as smp\n",
    "from torch.optim import lr_scheduler\n",
    "\n",
    "import Utils\n",
    "from ModelManager import ModelManager\n",
    "from DataManager import DataManager, CustomAugmentation\n",
    "from TrainManager import TrainManager\n",
    "from InferManager import InferManager\n",
    "from LossManager import DiceLoss\n",
    "from LearningRateManager import CustomCosineAnnealingWarmUpRestarts\n",
    "\n",
    "Utils.fix_random_seed(random_seed=21)\n",
    "\n",
    "project_dir = '/home/weebee/recyclables/baseline'\n",
    "dataset_dir = os.path.join(project_dir, 'input')\n",
    "save_dir = os.path.join(project_dir, 'saved/tm_test')\n",
    "if not os.path.isdir(dataset_dir):\n",
    "    sys.exit('check dataset path!!')\n",
    "if not os.path.isdir(save_dir):\n",
    "    os.mkdir(save_dir)\n"
   ]
  },
  {
   "cell_type": "markdown",
   "metadata": {},
   "source": [
    "## Train each class"
   ]
  },
  {
   "cell_type": "code",
   "execution_count": 6,
   "metadata": {},
   "outputs": [
    {
     "name": "stdout",
     "output_type": "stream",
     "text": [
      "loading annotations into memory...\n",
      "Done (t=2.28s)\n",
      "creating index...\n",
      "index created!\n",
      "loading annotations into memory...\n"
     ]
    },
    {
     "name": "stderr",
     "output_type": "stream",
     "text": [
      "Failed to detect the name of this notebook, you can set it manually with the WANDB_NOTEBOOK_NAME environment variable to enable code saving.\n"
     ]
    },
    {
     "name": "stdout",
     "output_type": "stream",
     "text": [
      "Done (t=0.75s)\n",
      "creating index...\n",
      "index created!\n",
      "\n",
      "Start training..\n",
      "num_epochs: 30\n",
      "save_dir: /home/weebee/recyclables/baseline/saved/tm_test\n",
      "file_name: best_model_target_clothing.pt\n",
      "val_every: 1\n",
      "\n"
     ]
    },
    {
     "name": "stderr",
     "output_type": "stream",
     "text": [
      "wandb: Currently logged in as: inhwan-wee (use `wandb login --relogin` to force relogin)\n"
     ]
    },
    {
     "data": {
      "text/html": [
       "\n",
       "                    Syncing run <strong><a href=\"https://wandb.ai/inhwan-wee/test/runs/1tn8bmos\" target=\"_blank\">silvery-dream-71</a></strong> to <a href=\"https://wandb.ai/inhwan-wee/test\" target=\"_blank\">Weights & Biases</a> (<a href=\"https://docs.wandb.com/integrations/jupyter.html\" target=\"_blank\">docs</a>).<br/>\n",
       "\n",
       "                "
      ],
      "text/plain": [
       "<IPython.core.display.HTML object>"
      ]
     },
     "metadata": {},
     "output_type": "display_data"
    },
    {
     "name": "stdout",
     "output_type": "stream",
     "text": [
      "\n"
     ]
    },
    {
     "name": "stderr",
     "output_type": "stream",
     "text": [
      "Epoch: 0/30, Time: 2021-12-28 23:52:49, lr: 0.0001: 100%|██████████| 654/654 [00:51<00:00, 12.70it/s, loss=0.172, mean_loss=0.366, train_count=93]\n"
     ]
    },
    {
     "name": "stdout",
     "output_type": "stream",
     "text": [
      "\n",
      "Start validation #1\n"
     ]
    },
    {
     "name": "stderr",
     "output_type": "stream",
     "text": [
      "Epoch: 1: 100%|██████████| 163/163 [00:24<00:00,  6.59it/s, mIoU_all=0.552, mIoU_batch=0.5]\n"
     ]
    },
    {
     "name": "stdout",
     "output_type": "stream",
     "text": [
      "\n",
      "Validation #1  Average Loss: 0.2079, mIoU_all: 0.5519\n",
      "Best performance at epoch or X0th epoch: 1\n",
      "Save model in /home/weebee/recyclables/baseline/saved/tm_test\n",
      "\n"
     ]
    },
    {
     "name": "stderr",
     "output_type": "stream",
     "text": [
      "Epoch: 1/30, Time: 2021-12-28 23:54:06, lr: 0.033400000000000006: 100%|██████████| 654/654 [00:51<00:00, 12.72it/s, loss=0.0474, mean_loss=0.253, train_count=89]\n"
     ]
    },
    {
     "name": "stdout",
     "output_type": "stream",
     "text": [
      "\n",
      "Start validation #2\n"
     ]
    },
    {
     "name": "stderr",
     "output_type": "stream",
     "text": [
      "Epoch: 2: 100%|██████████| 163/163 [00:25<00:00,  6.29it/s, mIoU_all=0.939, mIoU_batch=1]\n"
     ]
    },
    {
     "name": "stdout",
     "output_type": "stream",
     "text": [
      "\n",
      "Validation #2  Average Loss: 0.0439, mIoU_all: 0.9393\n",
      "Best performance at epoch or X0th epoch: 2\n",
      "Save model in /home/weebee/recyclables/baseline/saved/tm_test\n",
      "\n"
     ]
    },
    {
     "name": "stderr",
     "output_type": "stream",
     "text": [
      "Epoch: 2/30, Time: 2021-12-28 23:55:24, lr: 0.06670000000000001: 100%|██████████| 654/654 [00:54<00:00, 11.90it/s, loss=0.185, mean_loss=0.171, train_count=93]\n"
     ]
    },
    {
     "name": "stdout",
     "output_type": "stream",
     "text": [
      "\n",
      "Start validation #3\n"
     ]
    },
    {
     "name": "stderr",
     "output_type": "stream",
     "text": [
      "Epoch: 3: 100%|██████████| 163/163 [00:26<00:00,  6.26it/s, mIoU_all=0.945, mIoU_batch=1]\n"
     ]
    },
    {
     "name": "stdout",
     "output_type": "stream",
     "text": [
      "\n",
      "Validation #3  Average Loss: 0.0648, mIoU_all: 0.9454\n",
      "\n"
     ]
    },
    {
     "name": "stderr",
     "output_type": "stream",
     "text": [
      "Epoch: 3/30, Time: 2021-12-28 23:56:46, lr: 0.1: 100%|██████████| 654/654 [00:52<00:00, 12.44it/s, loss=0.0983, mean_loss=0.169, train_count=90]\n"
     ]
    },
    {
     "name": "stdout",
     "output_type": "stream",
     "text": [
      "\n",
      "Start validation #4\n"
     ]
    },
    {
     "name": "stderr",
     "output_type": "stream",
     "text": [
      "Epoch: 4: 100%|██████████| 163/163 [00:25<00:00,  6.44it/s, mIoU_all=0.939, mIoU_batch=1]\n"
     ]
    },
    {
     "name": "stdout",
     "output_type": "stream",
     "text": [
      "\n",
      "Validation #4  Average Loss: 0.0959, mIoU_all: 0.9393\n",
      "\n"
     ]
    },
    {
     "name": "stderr",
     "output_type": "stream",
     "text": [
      "Epoch: 4/30, Time: 2021-12-28 23:58:04, lr: 0.09505339495172584: 100%|██████████| 654/654 [00:51<00:00, 12.65it/s, loss=0.0987, mean_loss=0.164, train_count=90]\n"
     ]
    },
    {
     "name": "stdout",
     "output_type": "stream",
     "text": [
      "\n",
      "Start validation #5\n"
     ]
    },
    {
     "name": "stderr",
     "output_type": "stream",
     "text": [
      "Epoch: 5: 100%|██████████| 163/163 [00:26<00:00,  6.16it/s, mIoU_all=0.942, mIoU_batch=0.486]\n"
     ]
    },
    {
     "name": "stdout",
     "output_type": "stream",
     "text": [
      "\n",
      "Validation #5  Average Loss: 0.0700, mIoU_all: 0.9424\n",
      "\n"
     ]
    },
    {
     "name": "stderr",
     "output_type": "stream",
     "text": [
      "Epoch: 5/30, Time: 2021-12-28 23:59:22, lr: 0.08119331560284375: 100%|██████████| 654/654 [00:55<00:00, 11.86it/s, loss=0.265, mean_loss=0.162, train_count=92]\n"
     ]
    },
    {
     "name": "stdout",
     "output_type": "stream",
     "text": [
      "\n",
      "Start validation #6\n"
     ]
    },
    {
     "name": "stderr",
     "output_type": "stream",
     "text": [
      "Epoch: 6: 100%|██████████| 163/163 [00:25<00:00,  6.32it/s, mIoU_all=0.942, mIoU_batch=1]\n"
     ]
    },
    {
     "name": "stdout",
     "output_type": "stream",
     "text": [
      "\n",
      "Validation #6  Average Loss: 0.0380, mIoU_all: 0.9424\n",
      "Best performance at epoch or X0th epoch: 6\n",
      "Save model in /home/weebee/recyclables/baseline/saved/tm_test\n",
      "\n"
     ]
    },
    {
     "name": "stderr",
     "output_type": "stream",
     "text": [
      "Epoch: 6/30, Time: 2021-12-29 00:00:44, lr: 0.06116492065111791: 100%|██████████| 654/654 [00:50<00:00, 12.86it/s, loss=0.0488, mean_loss=0.153, train_count=92]\n"
     ]
    },
    {
     "name": "stdout",
     "output_type": "stream",
     "text": [
      "\n",
      "Start validation #7\n"
     ]
    },
    {
     "name": "stderr",
     "output_type": "stream",
     "text": [
      "Epoch: 7: 100%|██████████| 163/163 [00:24<00:00,  6.57it/s, mIoU_all=0.942, mIoU_batch=1]\n"
     ]
    },
    {
     "name": "stdout",
     "output_type": "stream",
     "text": [
      "\n",
      "Validation #7  Average Loss: 0.0602, mIoU_all: 0.9424\n",
      "\n"
     ]
    },
    {
     "name": "stderr",
     "output_type": "stream",
     "text": [
      "Epoch: 7/30, Time: 2021-12-29 00:02:00, lr: 0.0389350793488821: 100%|██████████| 654/654 [00:49<00:00, 13.22it/s, loss=0.0356, mean_loss=0.154, train_count=89]\n"
     ]
    },
    {
     "name": "stdout",
     "output_type": "stream",
     "text": [
      "\n",
      "Start validation #8\n"
     ]
    },
    {
     "name": "stderr",
     "output_type": "stream",
     "text": [
      "Epoch: 8: 100%|██████████| 163/163 [00:24<00:00,  6.62it/s, mIoU_all=0.939, mIoU_batch=1]\n"
     ]
    },
    {
     "name": "stdout",
     "output_type": "stream",
     "text": [
      "\n",
      "Validation #8  Average Loss: 0.0474, mIoU_all: 0.9393\n",
      "\n"
     ]
    },
    {
     "name": "stderr",
     "output_type": "stream",
     "text": [
      "Epoch: 8/30, Time: 2021-12-29 00:03:14, lr: 0.018906684397156263: 100%|██████████| 654/654 [00:50<00:00, 12.99it/s, loss=0.301, mean_loss=0.15, train_count=90]\n"
     ]
    },
    {
     "name": "stdout",
     "output_type": "stream",
     "text": [
      "\n",
      "Start validation #9\n"
     ]
    },
    {
     "name": "stderr",
     "output_type": "stream",
     "text": [
      "Epoch: 9: 100%|██████████| 163/163 [00:25<00:00,  6.48it/s, mIoU_all=0.939, mIoU_batch=1]\n"
     ]
    },
    {
     "name": "stdout",
     "output_type": "stream",
     "text": [
      "\n",
      "Validation #9  Average Loss: 0.0455, mIoU_all: 0.9393\n",
      "\n"
     ]
    },
    {
     "name": "stderr",
     "output_type": "stream",
     "text": [
      "Epoch: 9/30, Time: 2021-12-29 00:04:30, lr: 0.005046605048274169: 100%|██████████| 654/654 [00:51<00:00, 12.60it/s, loss=0.207, mean_loss=0.148, train_count=90]\n"
     ]
    },
    {
     "name": "stdout",
     "output_type": "stream",
     "text": [
      "\n",
      "Start validation #10\n"
     ]
    },
    {
     "name": "stderr",
     "output_type": "stream",
     "text": [
      "Epoch: 10: 100%|██████████| 163/163 [00:26<00:00,  6.18it/s, mIoU_all=0.949, mIoU_batch=1]\n"
     ]
    },
    {
     "name": "stdout",
     "output_type": "stream",
     "text": [
      "\n",
      "Validation #10  Average Loss: 0.0506, mIoU_all: 0.9485\n",
      "\n"
     ]
    },
    {
     "name": "stderr",
     "output_type": "stream",
     "text": [
      "Epoch: 10/30, Time: 2021-12-29 00:05:49, lr: 0.0001: 100%|██████████| 654/654 [00:53<00:00, 12.13it/s, loss=0.0422, mean_loss=0.142, train_count=92]\n"
     ]
    },
    {
     "name": "stdout",
     "output_type": "stream",
     "text": [
      "\n",
      "Start validation #11\n"
     ]
    },
    {
     "name": "stderr",
     "output_type": "stream",
     "text": [
      "Epoch: 11: 100%|██████████| 163/163 [00:26<00:00,  6.18it/s, mIoU_all=0.949, mIoU_batch=1]\n"
     ]
    },
    {
     "name": "stdout",
     "output_type": "stream",
     "text": [
      "\n",
      "Validation #11  Average Loss: 0.0526, mIoU_all: 0.9486\n",
      "Best performance at epoch or X0th epoch: 11\n",
      "Save model in /home/weebee/recyclables/baseline/saved/tm_test\n",
      "\n"
     ]
    },
    {
     "name": "stderr",
     "output_type": "stream",
     "text": [
      "Epoch: 11/30, Time: 2021-12-29 00:07:10, lr: 0.016733333333333333: 100%|██████████| 654/654 [00:54<00:00, 12.11it/s, loss=0.376, mean_loss=0.145, train_count=94]\n"
     ]
    },
    {
     "name": "stdout",
     "output_type": "stream",
     "text": [
      "\n",
      "Start validation #12\n"
     ]
    },
    {
     "name": "stderr",
     "output_type": "stream",
     "text": [
      "Epoch: 12: 100%|██████████| 163/163 [00:25<00:00,  6.46it/s, mIoU_all=0.942, mIoU_batch=1]\n"
     ]
    },
    {
     "name": "stdout",
     "output_type": "stream",
     "text": [
      "\n",
      "Validation #12  Average Loss: 0.0451, mIoU_all: 0.9424\n",
      "Best performance at epoch or X0th epoch: 12\n",
      "Save model in /home/weebee/recyclables/baseline/saved/tm_test\n",
      "\n"
     ]
    },
    {
     "name": "stderr",
     "output_type": "stream",
     "text": [
      "Epoch: 12/30, Time: 2021-12-29 00:08:30, lr: 0.03336666666666667: 100%|██████████| 654/654 [00:49<00:00, 13.24it/s, loss=0.0353, mean_loss=0.156, train_count=88]\n"
     ]
    },
    {
     "name": "stdout",
     "output_type": "stream",
     "text": [
      "\n",
      "Start validation #13\n"
     ]
    },
    {
     "name": "stderr",
     "output_type": "stream",
     "text": [
      "Epoch: 13: 100%|██████████| 163/163 [00:25<00:00,  6.49it/s, mIoU_all=0.945, mIoU_batch=1]\n"
     ]
    },
    {
     "name": "stdout",
     "output_type": "stream",
     "text": [
      "\n",
      "Validation #13  Average Loss: 0.0502, mIoU_all: 0.9454\n",
      "\n"
     ]
    },
    {
     "name": "stderr",
     "output_type": "stream",
     "text": [
      "Epoch: 13/30, Time: 2021-12-29 00:09:45, lr: 0.05: 100%|██████████| 654/654 [00:50<00:00, 12.88it/s, loss=0.241, mean_loss=0.156, train_count=87]\n"
     ]
    },
    {
     "name": "stdout",
     "output_type": "stream",
     "text": [
      "\n",
      "Start validation #14\n"
     ]
    },
    {
     "name": "stderr",
     "output_type": "stream",
     "text": [
      "Epoch: 14: 100%|██████████| 163/163 [00:25<00:00,  6.30it/s, mIoU_all=0.942, mIoU_batch=1]\n"
     ]
    },
    {
     "name": "stdout",
     "output_type": "stream",
     "text": [
      "\n",
      "Validation #14  Average Loss: 0.0427, mIoU_all: 0.9424\n",
      "Best performance at epoch or X0th epoch: 14\n",
      "Save model in /home/weebee/recyclables/baseline/saved/tm_test\n",
      "\n"
     ]
    },
    {
     "name": "stderr",
     "output_type": "stream",
     "text": [
      "Epoch: 14/30, Time: 2021-12-29 00:11:02, lr: 0.047529173254165356: 100%|██████████| 654/654 [00:52<00:00, 12.46it/s, loss=0.0566, mean_loss=0.154, train_count=92]\n"
     ]
    },
    {
     "name": "stdout",
     "output_type": "stream",
     "text": [
      "\n",
      "Start validation #15\n"
     ]
    },
    {
     "name": "stderr",
     "output_type": "stream",
     "text": [
      "Epoch: 15: 100%|██████████| 163/163 [00:24<00:00,  6.60it/s, mIoU_all=0.943, mIoU_batch=1]\n"
     ]
    },
    {
     "name": "stdout",
     "output_type": "stream",
     "text": [
      "\n",
      "Validation #15  Average Loss: 0.0605, mIoU_all: 0.9427\n",
      "\n"
     ]
    },
    {
     "name": "stderr",
     "output_type": "stream",
     "text": [
      "Epoch: 15/30, Time: 2021-12-29 00:12:19, lr: 0.040606070556375405: 100%|██████████| 654/654 [00:50<00:00, 12.92it/s, loss=0.497, mean_loss=0.155, train_count=91]\n"
     ]
    },
    {
     "name": "stdout",
     "output_type": "stream",
     "text": [
      "\n",
      "Start validation #16\n"
     ]
    },
    {
     "name": "stderr",
     "output_type": "stream",
     "text": [
      "Epoch: 16: 100%|██████████| 163/163 [00:24<00:00,  6.75it/s, mIoU_all=0.945, mIoU_batch=1]\n"
     ]
    },
    {
     "name": "stdout",
     "output_type": "stream",
     "text": [
      "\n",
      "Validation #16  Average Loss: 0.0480, mIoU_all: 0.9454\n",
      "\n"
     ]
    },
    {
     "name": "stderr",
     "output_type": "stream",
     "text": [
      "Epoch: 16/30, Time: 2021-12-29 00:13:34, lr: 0.03060189730221004: 100%|██████████| 654/654 [00:49<00:00, 13.20it/s, loss=0.146, mean_loss=0.153, train_count=91]\n"
     ]
    },
    {
     "name": "stdout",
     "output_type": "stream",
     "text": [
      "\n",
      "Start validation #17\n"
     ]
    },
    {
     "name": "stderr",
     "output_type": "stream",
     "text": [
      "Epoch: 17: 100%|██████████| 163/163 [00:24<00:00,  6.62it/s, mIoU_all=0.945, mIoU_batch=1]\n"
     ]
    },
    {
     "name": "stdout",
     "output_type": "stream",
     "text": [
      "\n",
      "Validation #17  Average Loss: 0.0663, mIoU_all: 0.9454\n",
      "\n"
     ]
    },
    {
     "name": "stderr",
     "output_type": "stream",
     "text": [
      "Epoch: 17/30, Time: 2021-12-29 00:14:49, lr: 0.019498102697789958: 100%|██████████| 654/654 [00:51<00:00, 12.64it/s, loss=0.0739, mean_loss=0.151, train_count=93]\n"
     ]
    },
    {
     "name": "stdout",
     "output_type": "stream",
     "text": [
      "\n",
      "Start validation #18\n"
     ]
    },
    {
     "name": "stderr",
     "output_type": "stream",
     "text": [
      "Epoch: 18: 100%|██████████| 163/163 [00:24<00:00,  6.76it/s, mIoU_all=0.949, mIoU_batch=1]\n"
     ]
    },
    {
     "name": "stdout",
     "output_type": "stream",
     "text": [
      "\n",
      "Validation #18  Average Loss: 0.0635, mIoU_all: 0.9485\n",
      "\n"
     ]
    },
    {
     "name": "stderr",
     "output_type": "stream",
     "text": [
      "Epoch: 18/30, Time: 2021-12-29 00:16:05, lr: 0.009493929443624599: 100%|██████████| 654/654 [00:50<00:00, 12.99it/s, loss=0.493, mean_loss=0.153, train_count=90]\n"
     ]
    },
    {
     "name": "stdout",
     "output_type": "stream",
     "text": [
      "\n",
      "Start validation #19\n"
     ]
    },
    {
     "name": "stderr",
     "output_type": "stream",
     "text": [
      "Epoch: 19: 100%|██████████| 163/163 [00:25<00:00,  6.37it/s, mIoU_all=0.942, mIoU_batch=1]\n"
     ]
    },
    {
     "name": "stdout",
     "output_type": "stream",
     "text": [
      "\n",
      "Validation #19  Average Loss: 0.0539, mIoU_all: 0.9424\n",
      "\n"
     ]
    },
    {
     "name": "stderr",
     "output_type": "stream",
     "text": [
      "Epoch: 19/30, Time: 2021-12-29 00:17:21, lr: 0.002570826745834645: 100%|██████████| 654/654 [00:51<00:00, 12.82it/s, loss=0.183, mean_loss=0.153, train_count=89]\n"
     ]
    },
    {
     "name": "stdout",
     "output_type": "stream",
     "text": [
      "\n",
      "Start validation #20\n"
     ]
    },
    {
     "name": "stderr",
     "output_type": "stream",
     "text": [
      "Epoch: 20: 100%|██████████| 163/163 [00:24<00:00,  6.62it/s, mIoU_all=0.945, mIoU_batch=0.486]\n"
     ]
    },
    {
     "name": "stdout",
     "output_type": "stream",
     "text": [
      "\n",
      "Validation #20  Average Loss: 0.0542, mIoU_all: 0.9454\n",
      "\n"
     ]
    },
    {
     "name": "stderr",
     "output_type": "stream",
     "text": [
      "Epoch: 20/30, Time: 2021-12-29 00:18:37, lr: 0.0001: 100%|██████████| 654/654 [00:49<00:00, 13.09it/s, loss=0.416, mean_loss=0.153, train_count=89]\n"
     ]
    },
    {
     "name": "stdout",
     "output_type": "stream",
     "text": [
      "\n",
      "Start validation #21\n"
     ]
    },
    {
     "name": "stderr",
     "output_type": "stream",
     "text": [
      "Epoch: 21: 100%|██████████| 163/163 [00:25<00:00,  6.44it/s, mIoU_all=0.942, mIoU_batch=1]\n"
     ]
    },
    {
     "name": "stdout",
     "output_type": "stream",
     "text": [
      "\n",
      "Validation #21  Average Loss: 0.0538, mIoU_all: 0.9424\n",
      "Best performance at epoch or X0th epoch: 21\n",
      "Save model in /home/weebee/recyclables/baseline/saved/tm_test\n",
      "\n"
     ]
    },
    {
     "name": "stderr",
     "output_type": "stream",
     "text": [
      "Epoch: 21/30, Time: 2021-12-29 00:19:53, lr: 0.0084: 100%|██████████| 654/654 [00:49<00:00, 13.14it/s, loss=0.0719, mean_loss=0.152, train_count=90]\n"
     ]
    },
    {
     "name": "stdout",
     "output_type": "stream",
     "text": [
      "\n",
      "Start validation #22\n"
     ]
    },
    {
     "name": "stderr",
     "output_type": "stream",
     "text": [
      "Epoch: 22: 100%|██████████| 163/163 [00:24<00:00,  6.75it/s, mIoU_all=0.939, mIoU_batch=1]\n"
     ]
    },
    {
     "name": "stdout",
     "output_type": "stream",
     "text": [
      "\n",
      "Validation #22  Average Loss: 0.0532, mIoU_all: 0.9393\n",
      "Best performance at epoch or X0th epoch: 22\n",
      "Save model in /home/weebee/recyclables/baseline/saved/tm_test\n",
      "\n"
     ]
    },
    {
     "name": "stderr",
     "output_type": "stream",
     "text": [
      "Epoch: 22/30, Time: 2021-12-29 00:21:08, lr: 0.0167: 100%|██████████| 654/654 [00:50<00:00, 13.02it/s, loss=0.041, mean_loss=0.15, train_count=92]\n"
     ]
    },
    {
     "name": "stdout",
     "output_type": "stream",
     "text": [
      "\n",
      "Start validation #23\n"
     ]
    },
    {
     "name": "stderr",
     "output_type": "stream",
     "text": [
      "Epoch: 23: 100%|██████████| 163/163 [00:24<00:00,  6.61it/s, mIoU_all=0.939, mIoU_batch=1]\n"
     ]
    },
    {
     "name": "stdout",
     "output_type": "stream",
     "text": [
      "\n",
      "Validation #23  Average Loss: 0.0537, mIoU_all: 0.9393\n",
      "\n"
     ]
    },
    {
     "name": "stderr",
     "output_type": "stream",
     "text": [
      "Epoch: 23/30, Time: 2021-12-29 00:22:23, lr: 0.025: 100%|██████████| 654/654 [00:51<00:00, 12.79it/s, loss=0.304, mean_loss=0.152, train_count=91]\n"
     ]
    },
    {
     "name": "stdout",
     "output_type": "stream",
     "text": [
      "\n",
      "Start validation #24\n"
     ]
    },
    {
     "name": "stderr",
     "output_type": "stream",
     "text": [
      "Epoch: 24: 100%|██████████| 163/163 [00:25<00:00,  6.35it/s, mIoU_all=0.942, mIoU_batch=0.486]\n"
     ]
    },
    {
     "name": "stdout",
     "output_type": "stream",
     "text": [
      "\n",
      "Validation #24  Average Loss: 0.0602, mIoU_all: 0.9424\n",
      "\n"
     ]
    },
    {
     "name": "stderr",
     "output_type": "stream",
     "text": [
      "Epoch: 24/30, Time: 2021-12-29 00:23:40, lr: 0.02376706240538512: 100%|██████████| 654/654 [00:47<00:00, 13.82it/s, loss=0.0556, mean_loss=0.156, train_count=89]\n"
     ]
    },
    {
     "name": "stdout",
     "output_type": "stream",
     "text": [
      "\n",
      "Start validation #25\n"
     ]
    },
    {
     "name": "stderr",
     "output_type": "stream",
     "text": [
      "Epoch: 25: 100%|██████████| 163/163 [00:23<00:00,  6.81it/s, mIoU_all=0.939, mIoU_batch=1]\n"
     ]
    },
    {
     "name": "stdout",
     "output_type": "stream",
     "text": [
      "\n",
      "Validation #25  Average Loss: 0.0567, mIoU_all: 0.9393\n",
      "\n"
     ]
    },
    {
     "name": "stderr",
     "output_type": "stream",
     "text": [
      "Epoch: 25/30, Time: 2021-12-29 00:24:52, lr: 0.020312448033141233: 100%|██████████| 654/654 [00:47<00:00, 13.86it/s, loss=0.0566, mean_loss=0.156, train_count=88]\n"
     ]
    },
    {
     "name": "stdout",
     "output_type": "stream",
     "text": [
      "\n",
      "Start validation #26\n"
     ]
    },
    {
     "name": "stderr",
     "output_type": "stream",
     "text": [
      "Epoch: 26: 100%|██████████| 163/163 [00:23<00:00,  6.81it/s, mIoU_all=0.942, mIoU_batch=1]\n"
     ]
    },
    {
     "name": "stdout",
     "output_type": "stream",
     "text": [
      "\n",
      "Validation #26  Average Loss: 0.0498, mIoU_all: 0.9424\n",
      "Best performance at epoch or X0th epoch: 26\n",
      "Save model in /home/weebee/recyclables/baseline/saved/tm_test\n",
      "\n"
     ]
    },
    {
     "name": "stderr",
     "output_type": "stream",
     "text": [
      "Epoch: 26/30, Time: 2021-12-29 00:26:03, lr: 0.015320385627756113: 100%|██████████| 654/654 [00:48<00:00, 13.51it/s, loss=0.0353, mean_loss=0.154, train_count=88]\n"
     ]
    },
    {
     "name": "stdout",
     "output_type": "stream",
     "text": [
      "\n",
      "Start validation #27\n"
     ]
    },
    {
     "name": "stderr",
     "output_type": "stream",
     "text": [
      "Epoch: 27: 100%|██████████| 163/163 [00:25<00:00,  6.35it/s, mIoU_all=0.942, mIoU_batch=1]\n"
     ]
    },
    {
     "name": "stdout",
     "output_type": "stream",
     "text": [
      "\n",
      "Validation #27  Average Loss: 0.0467, mIoU_all: 0.9424\n",
      "Best performance at epoch or X0th epoch: 27\n",
      "Save model in /home/weebee/recyclables/baseline/saved/tm_test\n",
      "\n"
     ]
    },
    {
     "name": "stderr",
     "output_type": "stream",
     "text": [
      "Epoch: 27/30, Time: 2021-12-29 00:27:18, lr: 0.009779614372243887: 100%|██████████| 654/654 [00:52<00:00, 12.38it/s, loss=0.0979, mean_loss=0.151, train_count=91]\n"
     ]
    },
    {
     "name": "stdout",
     "output_type": "stream",
     "text": [
      "\n",
      "Start validation #28\n"
     ]
    },
    {
     "name": "stderr",
     "output_type": "stream",
     "text": [
      "Epoch: 28: 100%|██████████| 163/163 [00:24<00:00,  6.65it/s, mIoU_all=0.942, mIoU_batch=1]\n"
     ]
    },
    {
     "name": "stdout",
     "output_type": "stream",
     "text": [
      "\n",
      "Validation #28  Average Loss: 0.0538, mIoU_all: 0.9424\n",
      "\n"
     ]
    },
    {
     "name": "stderr",
     "output_type": "stream",
     "text": [
      "Epoch: 28/30, Time: 2021-12-29 00:28:36, lr: 0.0047875519668587685: 100%|██████████| 654/654 [00:48<00:00, 13.43it/s, loss=0.0479, mean_loss=0.147, train_count=91]\n"
     ]
    },
    {
     "name": "stdout",
     "output_type": "stream",
     "text": [
      "\n",
      "Start validation #29\n"
     ]
    },
    {
     "name": "stderr",
     "output_type": "stream",
     "text": [
      "Epoch: 29: 100%|██████████| 163/163 [00:24<00:00,  6.68it/s, mIoU_all=0.939, mIoU_batch=1]\n"
     ]
    },
    {
     "name": "stdout",
     "output_type": "stream",
     "text": [
      "\n",
      "Validation #29  Average Loss: 0.0524, mIoU_all: 0.9393\n",
      "\n"
     ]
    },
    {
     "name": "stderr",
     "output_type": "stream",
     "text": [
      "Epoch: 29/30, Time: 2021-12-29 00:29:49, lr: 0.0013329375946148831: 100%|██████████| 654/654 [00:50<00:00, 12.96it/s, loss=0.0428, mean_loss=0.145, train_count=91]\n"
     ]
    },
    {
     "name": "stdout",
     "output_type": "stream",
     "text": [
      "\n",
      "Start validation #30\n"
     ]
    },
    {
     "name": "stderr",
     "output_type": "stream",
     "text": [
      "Epoch: 30: 100%|██████████| 163/163 [00:24<00:00,  6.59it/s, mIoU_all=0.942, mIoU_batch=1]\n"
     ]
    },
    {
     "name": "stdout",
     "output_type": "stream",
     "text": [
      "\n",
      "Validation #30  Average Loss: 0.0533, mIoU_all: 0.9424\n"
     ]
    },
    {
     "name": "stderr",
     "output_type": "stream",
     "text": [
      "wandb: Network error (ConnectionError), entering retry loop.\n"
     ]
    }
   ],
   "source": [
    "for class_name in Utils.get_classes()[1:]:\n",
    "    class_name = 'Clothing'\n",
    "    # Set Configures\n",
    "    # target_classes = Utils.get_classes()\n",
    "    target_classes = ['Background']\n",
    "    target_classes.append(class_name)\n",
    "\n",
    "    config_dict = {\n",
    "        'project_name': 'test',\n",
    "        'run_name': '[TM2_Mv2_OnecycleLR] ' + class_name,\n",
    "        'network': 'DeepLabV3Plus',\n",
    "        'encoder': 'resnet101',\n",
    "        'encoder_weights': 'imagenet',\n",
    "        'target_classes': target_classes,\n",
    "        'activation': None,\n",
    "        'multi_gpu': False,\n",
    "        'num_epochs': 30,\n",
    "        'batch_size': 4,\n",
    "        'learning_rate_0': 1e-4,\n",
    "        'number_worker': 8,\n",
    "        'val_every': 1,\n",
    "        'note': 'test train OnecycleLR'\n",
    "    }\n",
    "\n",
    "    # Make Model\n",
    "    model_manager = ModelManager()\n",
    "    model = model_manager.make_deeplabv3plus_model(\n",
    "        encoder=config_dict['encoder'],\n",
    "        encoder_weights=config_dict['encoder_weights'],\n",
    "        class_number=len(target_classes),\n",
    "        activation=config_dict['activation'],\n",
    "        multi_gpu=config_dict['multi_gpu']\n",
    "    )\n",
    "\n",
    "    # Load Dataset\n",
    "    data_manager = DataManager(dataset_path=dataset_dir)\n",
    "    data_manager.assignDataLoaders(\n",
    "        batch_size=config_dict['batch_size'],\n",
    "        shuffle=True,\n",
    "        number_worker=config_dict['number_worker'],\n",
    "        drop_last=True,\n",
    "        transform=CustomAugmentation.to_tensor_transform(),\n",
    "        # transform=CustomAugmentation.medium_transform(),\n",
    "        # transform=CustomAugmentation.medium_transform_v2(),\n",
    "        target_segmentation=True,\n",
    "        target_classes=target_classes\n",
    "    )\n",
    "\n",
    "    # # path of saved best model\n",
    "    # model_path = os.path.join('/home/weebee/recyclables/baseline/saved/server_11_e50_train_1/', 'best_model_target_' + '_'.join([v.lower() for v in target_classes[1:]]) +'.pt')\n",
    "\n",
    "    # # load the saved best model\n",
    "    # checkpoint = torch.load(model_path, map_location=Utils.get_device())\n",
    "    # state_dict = checkpoint.state_dict()\n",
    "    # model.load_state_dict(state_dict)\n",
    "\n",
    "    criterion = smp.utils.losses.CrossEntropyLoss()\n",
    "    # criterion = smp.utils.losses.BCEWithLogitsLoss()\n",
    "    # criterion = tgm.losses.DiceLoss()\n",
    "    # criterion = DiceLoss()\n",
    "    # criterion = smp.utils.losses.JaccardLoss()\n",
    "\n",
    "    optimizer = torch.optim.Adam(\n",
    "        [dict(params=model.parameters(),\n",
    "                lr=config_dict['learning_rate_0']\n",
    "                ),\n",
    "            ])\n",
    "\n",
    "    # lr_scheduler = None\n",
    "    # lr_scheduler = torch.optim.lr_scheduler.OneCycleLR(\n",
    "    #     optimizer, max_lr=0.01, steps_per_epoch=10, epochs=config_dict['num_epochs'], anneal_strategy='cos'\n",
    "    # )\n",
    "    # lr_scheduler = torch.optim.lr_scheduler.CosineAnnealingWarmRestarts(\n",
    "    #     optimizer, T_0=1, T_mult=2, eta_min=5e-5,\n",
    "    # )\n",
    "    lr_scheduler = CustomCosineAnnealingWarmUpRestarts(\n",
    "        optimizer, T_0=10, T_mult=1, eta_max=0.1,  T_up=3, gamma=0.5\n",
    "    )\n",
    "\n",
    "    # Run Train\n",
    "    train_manager = TrainManager()\n",
    "    train_manager.run_train(\n",
    "        model=model,\n",
    "        config_dict=config_dict,\n",
    "        data_loader=data_manager.train_data_loader,\n",
    "        val_loader=data_manager.val_data_loader,\n",
    "        criterion=criterion,\n",
    "        optimizer=optimizer,\n",
    "        lr_scheduler=lr_scheduler,\n",
    "        save_dir=save_dir,\n",
    "        file_name='best_model_target_' + '_'.join([v.lower() for v in target_classes[1:]]) +'.pt',\n",
    "        # file_name='best_model_1.pt',\n",
    "        target_only_p=1.0 # -> 1 set = 4 batch_size\n",
    "    )\n",
    "    break"
   ]
  }
 ],
 "metadata": {
  "interpreter": {
   "hash": "31f2aee4e71d21fbe5cf8b01ff0e069b9275f58929596ceb00d14d90e3e16cd6"
  },
  "kernelspec": {
   "display_name": "Python 3.8.10 64-bit",
   "name": "python3"
  },
  "language_info": {
   "codemirror_mode": {
    "name": "ipython",
    "version": 3
   },
   "file_extension": ".py",
   "mimetype": "text/x-python",
   "name": "python",
   "nbconvert_exporter": "python",
   "pygments_lexer": "ipython3",
   "version": "3.8.10"
  },
  "orig_nbformat": 4
 },
 "nbformat": 4,
 "nbformat_minor": 2
}
