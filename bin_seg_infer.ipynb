{
 "cells": [
  {
   "cell_type": "code",
   "execution_count": 1,
   "metadata": {},
   "outputs": [],
   "source": [
    "# from google.colab import drive\n",
    "# drive.mount('/content/drive')"
   ]
  },
  {
   "cell_type": "code",
   "execution_count": 2,
   "metadata": {},
   "outputs": [],
   "source": [
    "# # Install required libs\n",
    "# !pip install git+https://github.com/qubvel/segmentation_models.pytorch\n",
    "# !pip install albumentations==0.4.6"
   ]
  },
  {
   "cell_type": "code",
   "execution_count": 3,
   "metadata": {},
   "outputs": [],
   "source": [
    "# !sudo rm -rf /content/seg_recyclables\n",
    "# !git clone https://github.com/finani/seg_recyclables.git\n",
    "\n",
    "# import sys\n",
    "# sys.path.append('/content/seg_recyclables')"
   ]
  },
  {
   "cell_type": "code",
   "execution_count": 4,
   "metadata": {},
   "outputs": [
    {
     "name": "stdout",
     "output_type": "stream",
     "text": [
      "Mon Dec 27 23:54:20 2021       \n",
      "+-----------------------------------------------------------------------------+\n",
      "| NVIDIA-SMI 470.86       Driver Version: 470.86       CUDA Version: 11.4     |\n",
      "|-------------------------------+----------------------+----------------------+\n",
      "| GPU  Name        Persistence-M| Bus-Id        Disp.A | Volatile Uncorr. ECC |\n",
      "| Fan  Temp  Perf  Pwr:Usage/Cap|         Memory-Usage | GPU-Util  Compute M. |\n",
      "|                               |                      |               MIG M. |\n",
      "|===============================+======================+======================|\n",
      "|   0  NVIDIA GeForce ...  Off  | 00000000:01:00.0  On |                  N/A |\n",
      "| N/A   48C    P5    20W /  N/A |    569MiB /  7982MiB |     36%      Default |\n",
      "|                               |                      |                  N/A |\n",
      "+-------------------------------+----------------------+----------------------+\n",
      "                                                                               \n",
      "+-----------------------------------------------------------------------------+\n",
      "| Processes:                                                                  |\n",
      "|  GPU   GI   CI        PID   Type   Process name                  GPU Memory |\n",
      "|        ID   ID                                                   Usage      |\n",
      "|=============================================================================|\n",
      "|    0   N/A  N/A      1152      G   /usr/lib/xorg/Xorg                287MiB |\n",
      "|    0   N/A  N/A      1686      G   /usr/bin/gnome-shell               72MiB |\n",
      "|    0   N/A  N/A      2139      G   ...mviewer/tv_bin/TeamViewer       20MiB |\n",
      "|    0   N/A  N/A      2610      G   ...AAAAAAAAA= --shared-files       23MiB |\n",
      "|    0   N/A  N/A      4907      G   ...AAAAAAAAA= --shared-files       76MiB |\n",
      "|    0   N/A  N/A      7261      G   ...AAAAAAAAA= --shared-files       86MiB |\n",
      "+-----------------------------------------------------------------------------+\n",
      "\n",
      "Your runtime has 67.3 gigabytes of available RAM\n",
      "\n",
      "You are using a high-RAM runtime!\n",
      "\n",
      "Pytorch version: 1.10.1+cu102\n",
      "Is GPU available: True\n",
      "NVIDIA GeForce RTX 2080 with Max-Q Design\n",
      "The number of GPUs available: 1\n",
      "CPU count: 12\n",
      "Cuda version: 10.2\n",
      "Cudnn version: 7.6.5\n"
     ]
    }
   ],
   "source": [
    "gpu_info = !nvidia-smi\n",
    "gpu_info = '\\n'.join(gpu_info)\n",
    "if gpu_info.find('failed') >= 0:\n",
    "  print('Not connected to a GPU')\n",
    "else:\n",
    "  print(gpu_info)\n",
    "\n",
    "print('')\n",
    "\n",
    "from psutil import virtual_memory\n",
    "ram_gb = virtual_memory().total / 1e9\n",
    "print('Your runtime has {:.1f} gigabytes of available RAM\\n'.format(ram_gb))\n",
    "\n",
    "if ram_gb < 20:\n",
    "  print('Not using a high-RAM runtime')\n",
    "else:\n",
    "  print('You are using a high-RAM runtime!')\n",
    "\n",
    "print('')\n",
    "\n",
    "import os\n",
    "import torch\n",
    "print('Pytorch version: {}'.format(torch.__version__))\n",
    "print('Is GPU available: {}'.format(torch.cuda.is_available()))\n",
    "if torch.cuda.is_available():\n",
    "  print(torch.cuda.get_device_name(0))\n",
    "  print('The number of GPUs available: {}'.format(torch.cuda.device_count())) # Tesla P100-PCIE-16GB\n",
    "DEVICE = \"cuda\" if torch.cuda.is_available() else \"cpu\"\n",
    "\n",
    "print('CPU count: {}'.format(os.cpu_count()))  # 8\n",
    "\n",
    "cuda = torch.version.cuda\n",
    "cudnn = torch.backends.cudnn.version()\n",
    "cudnn_major = cudnn // 1000\n",
    "cudnn = cudnn % 1000\n",
    "cudnn_minor = cudnn // 100\n",
    "cudnn_patch = cudnn % 100\n",
    "print('Cuda version: {}'.format(cuda)) # 11.1\n",
    "print('Cudnn version: {}.{}.{}'.format(cudnn_major, cudnn_minor, cudnn_patch)) # 8.0.5\n"
   ]
  },
  {
   "cell_type": "markdown",
   "metadata": {},
   "source": [
    "# Inference Binary Segmentation\n",
    "Classes =  ['Background', 'UNKNOWN', 'General trash', 'Paper', 'Paper pack', 'Metal', 'Glass', 'Plastic', 'Styrofoam', 'Plastic bag', 'Battery', 'Clothing']"
   ]
  },
  {
   "cell_type": "markdown",
   "metadata": {},
   "source": [
    "## Configures"
   ]
  },
  {
   "cell_type": "code",
   "execution_count": 5,
   "metadata": {},
   "outputs": [],
   "source": [
    "import os\n",
    "import sys\n",
    "\n",
    "import torch\n",
    "import numpy as np\n",
    "import pandas as pd\n",
    "\n",
    "import wandb\n",
    "import matplotlib.pyplot as plt\n",
    "import albumentations as A\n",
    "\n",
    "import Utils\n",
    "from ModelManager import ModelManager\n",
    "from DataManager import DataManager, CustomDataset, CustomAugmentation\n",
    "from InferManager import InferManager\n",
    "\n",
    "project_dir = '/home/weebee/recyclables/baseline'\n",
    "dataset_dir = os.path.join(project_dir, 'input')\n",
    "save_dir = os.path.join(project_dir, 'saved/test_1')\n",
    "if not os.path.isdir(dataset_dir):\n",
    "    sys.exit('check dataset path!!')\n",
    "if not os.path.isdir(save_dir):\n",
    "    os.mkdir(save_dir)\n",
    "\n",
    "config_dict = {\n",
    "    'project_name': 'test',\n",
    "    'run_name': '[IM] All Binary Classes',\n",
    "    'network': 'DeepLabV3Plus',\n",
    "    'encoder': 'resnet101',\n",
    "    'encoder_weights': 'imagenet',\n",
    "    'activation': None,\n",
    "    'multi_gpu': False,\n",
    "    'batch_size': 30,\n",
    "    'learning_rate': 1e-4,\n",
    "    'number_worker': 4,\n",
    "    'note': 'test infer'\n",
    "}\n",
    "\n",
    "transform = CustomAugmentation.to_tensor_transform()"
   ]
  },
  {
   "cell_type": "code",
   "execution_count": 6,
   "metadata": {},
   "outputs": [
    {
     "name": "stdout",
     "output_type": "stream",
     "text": [
      "loading annotations into memory...\n",
      "Done (t=0.00s)\n",
      "creating index...\n",
      "index created!\n"
     ]
    }
   ],
   "source": [
    "# Make Model for binary segmentation\n",
    "model_manager = ModelManager()\n",
    "model = model_manager.make_deeplabv3plus_model(\n",
    "    encoder=config_dict['encoder'],\n",
    "    encoder_weights=config_dict['encoder_weights'],\n",
    "    class_number=2,\n",
    "    activation=config_dict['activation'],\n",
    "    multi_gpu=config_dict['multi_gpu']\n",
    ")\n",
    "\n",
    "# Load Dataset\n",
    "data_manager = DataManager(dataset_path=dataset_dir)\n",
    "test_dataset = CustomDataset(\n",
    "    dataset_dir=data_manager.dataset_path,\n",
    "    json_file_name='test.json',\n",
    "    mode='test',\n",
    "    transform=CustomAugmentation.to_tensor_transform()\n",
    ")\n",
    "test_data_loader = data_manager.make_data_loader(\n",
    "    dataset=test_dataset,\n",
    "    batch_size=config_dict['batch_size'],\n",
    "    shuffle=False,\n",
    "    number_worker=config_dict['number_worker'],\n",
    "    drop_last=False\n",
    ")"
   ]
  },
  {
   "cell_type": "markdown",
   "metadata": {},
   "source": [
    "## Make Submission"
   ]
  },
  {
   "cell_type": "code",
   "execution_count": 7,
   "metadata": {},
   "outputs": [
    {
     "name": "stdout",
     "output_type": "stream",
     "text": [
      "\n",
      "\tClass: UNKNOWN\n",
      "\n"
     ]
    },
    {
     "name": "stderr",
     "output_type": "stream",
     "text": [
      "100%|██████████| 28/28 [02:17<00:00,  4.91s/it, file_name=batch_03/0785.jpg]\n"
     ]
    },
    {
     "name": "stdout",
     "output_type": "stream",
     "text": [
      "\n",
      "\tClass: General trash\n",
      "\n"
     ]
    },
    {
     "name": "stderr",
     "output_type": "stream",
     "text": [
      "100%|██████████| 28/28 [02:22<00:00,  5.07s/it, file_name=batch_03/0785.jpg]\n"
     ]
    },
    {
     "name": "stdout",
     "output_type": "stream",
     "text": [
      "\n",
      "\tClass: Paper\n",
      "\n"
     ]
    },
    {
     "name": "stderr",
     "output_type": "stream",
     "text": [
      "100%|██████████| 28/28 [02:22<00:00,  5.08s/it, file_name=batch_03/0785.jpg]\n"
     ]
    },
    {
     "name": "stdout",
     "output_type": "stream",
     "text": [
      "\n",
      "\tClass: Paper pack\n",
      "\n"
     ]
    },
    {
     "name": "stderr",
     "output_type": "stream",
     "text": [
      "100%|██████████| 28/28 [02:22<00:00,  5.09s/it, file_name=batch_03/0785.jpg]\n"
     ]
    },
    {
     "name": "stdout",
     "output_type": "stream",
     "text": [
      "\n",
      "\tClass: Metal\n",
      "\n"
     ]
    },
    {
     "name": "stderr",
     "output_type": "stream",
     "text": [
      "100%|██████████| 28/28 [02:21<00:00,  5.04s/it, file_name=batch_03/0785.jpg]\n"
     ]
    },
    {
     "name": "stdout",
     "output_type": "stream",
     "text": [
      "\n",
      "\tClass: Glass\n",
      "\n"
     ]
    },
    {
     "name": "stderr",
     "output_type": "stream",
     "text": [
      "100%|██████████| 28/28 [02:20<00:00,  5.01s/it, file_name=batch_03/0785.jpg]\n"
     ]
    },
    {
     "name": "stdout",
     "output_type": "stream",
     "text": [
      "\n",
      "\tClass: Plastic\n",
      "\n"
     ]
    },
    {
     "name": "stderr",
     "output_type": "stream",
     "text": [
      "100%|██████████| 28/28 [02:22<00:00,  5.10s/it, file_name=batch_03/0785.jpg]\n"
     ]
    },
    {
     "name": "stdout",
     "output_type": "stream",
     "text": [
      "\n",
      "\tClass: Styrofoam\n",
      "\n"
     ]
    },
    {
     "name": "stderr",
     "output_type": "stream",
     "text": [
      "100%|██████████| 28/28 [02:20<00:00,  5.02s/it, file_name=batch_03/0785.jpg]\n"
     ]
    },
    {
     "name": "stdout",
     "output_type": "stream",
     "text": [
      "\n",
      "\tClass: Plastic bag\n",
      "\n"
     ]
    },
    {
     "name": "stderr",
     "output_type": "stream",
     "text": [
      "100%|██████████| 28/28 [02:19<00:00,  5.00s/it, file_name=batch_03/0785.jpg]\n"
     ]
    },
    {
     "name": "stdout",
     "output_type": "stream",
     "text": [
      "\n",
      "\tClass: Battery\n",
      "\n"
     ]
    },
    {
     "name": "stderr",
     "output_type": "stream",
     "text": [
      "100%|██████████| 28/28 [02:18<00:00,  4.93s/it, file_name=batch_03/0785.jpg]\n"
     ]
    },
    {
     "name": "stdout",
     "output_type": "stream",
     "text": [
      "\n",
      "\tClass: Clothing\n",
      "\n"
     ]
    },
    {
     "name": "stderr",
     "output_type": "stream",
     "text": [
      "100%|██████████| 28/28 [02:14<00:00,  4.79s/it, file_name=batch_03/0785.jpg]\n"
     ]
    },
    {
     "name": "stdout",
     "output_type": "stream",
     "text": [
      "[812 347 560  82 417]\n"
     ]
    },
    {
     "ename": "NameError",
     "evalue": "name 'dataset_dir' is not defined",
     "output_type": "error",
     "traceback": [
      "\u001b[0;31m---------------------------------------------------------------------------\u001b[0m",
      "\u001b[0;31mNameError\u001b[0m                                 Traceback (most recent call last)",
      "\u001b[0;32m/tmp/ipykernel_154953/630886151.py\u001b[0m in \u001b[0;36m<module>\u001b[0;34m\u001b[0m\n\u001b[1;32m      1\u001b[0m \u001b[0;31m# Make Submission for binary segmentation\u001b[0m\u001b[0;34m\u001b[0m\u001b[0;34m\u001b[0m\u001b[0;34m\u001b[0m\u001b[0m\n\u001b[1;32m      2\u001b[0m \u001b[0minfer_manager\u001b[0m \u001b[0;34m=\u001b[0m \u001b[0mInferManager\u001b[0m\u001b[0;34m(\u001b[0m\u001b[0;34m)\u001b[0m\u001b[0;34m\u001b[0m\u001b[0;34m\u001b[0m\u001b[0m\n\u001b[0;32m----> 3\u001b[0;31m infer_manager.make_submission_binary(\n\u001b[0m\u001b[1;32m      4\u001b[0m     \u001b[0mmodel\u001b[0m\u001b[0;34m=\u001b[0m\u001b[0mmodel\u001b[0m\u001b[0;34m,\u001b[0m\u001b[0;34m\u001b[0m\u001b[0;34m\u001b[0m\u001b[0m\n\u001b[1;32m      5\u001b[0m     \u001b[0mtest_data_loader\u001b[0m\u001b[0;34m=\u001b[0m\u001b[0mtest_data_loader\u001b[0m\u001b[0;34m,\u001b[0m\u001b[0;34m\u001b[0m\u001b[0;34m\u001b[0m\u001b[0m\n",
      "\u001b[0;32m~/recyclables/baseline/seg_recyclables/InferManager.py\u001b[0m in \u001b[0;36mmake_submission_binary\u001b[0;34m(self, model, test_data_loader, save_dir, submission_file_name)\u001b[0m\n\u001b[1;32m    224\u001b[0m             \u001b[0;32mfor\u001b[0m \u001b[0midx\u001b[0m \u001b[0;32min\u001b[0m \u001b[0mrange\u001b[0m\u001b[0;34m(\u001b[0m\u001b[0mlen\u001b[0m\u001b[0;34m(\u001b[0m\u001b[0mfile_number\u001b[0m\u001b[0;34m)\u001b[0m\u001b[0;34m)\u001b[0m\u001b[0;34m:\u001b[0m\u001b[0;34m\u001b[0m\u001b[0;34m\u001b[0m\u001b[0m\n\u001b[1;32m    225\u001b[0m                 \u001b[0;31m# Original image\u001b[0m\u001b[0;34m\u001b[0m\u001b[0;34m\u001b[0m\u001b[0;34m\u001b[0m\u001b[0m\n\u001b[0;32m--> 226\u001b[0;31m                 \u001b[0mim1\u001b[0m \u001b[0;34m=\u001b[0m \u001b[0maxs\u001b[0m\u001b[0;34m[\u001b[0m\u001b[0midx\u001b[0m\u001b[0;34m]\u001b[0m\u001b[0;34m[\u001b[0m\u001b[0;36m0\u001b[0m\u001b[0;34m]\u001b[0m\u001b[0;34m.\u001b[0m\u001b[0mimshow\u001b[0m\u001b[0;34m(\u001b[0m\u001b[0mimg\u001b[0m\u001b[0;34m.\u001b[0m\u001b[0mimread\u001b[0m\u001b[0;34m(\u001b[0m\u001b[0mos\u001b[0m\u001b[0;34m.\u001b[0m\u001b[0mpath\u001b[0m\u001b[0;34m.\u001b[0m\u001b[0mjoin\u001b[0m\u001b[0;34m(\u001b[0m\u001b[0mdataset_dir\u001b[0m\u001b[0;34m,\u001b[0m \u001b[0mfile_names_list\u001b[0m\u001b[0;34m[\u001b[0m\u001b[0midx\u001b[0m\u001b[0;34m]\u001b[0m\u001b[0;34m[\u001b[0m\u001b[0mfile_number\u001b[0m\u001b[0;34m[\u001b[0m\u001b[0midx\u001b[0m\u001b[0;34m]\u001b[0m\u001b[0;34m]\u001b[0m\u001b[0;34m)\u001b[0m\u001b[0;34m)\u001b[0m\u001b[0;34m)\u001b[0m\u001b[0;34m\u001b[0m\u001b[0;34m\u001b[0m\u001b[0m\n\u001b[0m\u001b[1;32m    227\u001b[0m                 \u001b[0maxs\u001b[0m\u001b[0;34m[\u001b[0m\u001b[0midx\u001b[0m\u001b[0;34m]\u001b[0m\u001b[0;34m[\u001b[0m\u001b[0;36m0\u001b[0m\u001b[0;34m]\u001b[0m\u001b[0;34m.\u001b[0m\u001b[0mgrid\u001b[0m\u001b[0;34m(\u001b[0m\u001b[0;32mFalse\u001b[0m\u001b[0;34m)\u001b[0m\u001b[0;34m\u001b[0m\u001b[0;34m\u001b[0m\u001b[0m\n\u001b[1;32m    228\u001b[0m                 axs[idx][0].set_title(\"Original image : {}\".format(\n",
      "\u001b[0;31mNameError\u001b[0m: name 'dataset_dir' is not defined"
     ]
    },
    {
     "data": {
      "image/png": "[encoded data removed]",
      "text/plain": [
       "<Figure size 2880x2880 with 20 Axes>"
      ]
     },
     "metadata": {},
     "output_type": "display_data"
    }
   ],
   "source": [
    "# Make Submission for binary segmentation\n",
    "infer_manager = InferManager()\n",
    "infer_manager.make_submission_binary(\n",
    "    model=model,\n",
    "    test_data_loader=test_data_loader,\n",
    "    dataset_dir=dataset_dir,\n",
    "    save_dir=save_dir,\n",
    "    submission_file_name='submission.csv',\n",
    "    threshold_bg=0.5\n",
    ")"
   ]
  },
  {
   "cell_type": "code",
   "execution_count": null,
   "metadata": {},
   "outputs": [],
   "source": [
    "# preds_list = []\n",
    "# file_names_list = []\n",
    "# for class_name in Utils.get_classes()[1:]:\n",
    "#     print(\"\\n\\tClass: {}\\n\".format(class_name))\n",
    "\n",
    "#     # Load Weights\n",
    "#     model = infer_manager.load_saved_model_weight(\n",
    "#         model=model,\n",
    "#         save_dir=save_dir,\n",
    "#         model_file_name='best_model_target_' + class_name.lower() + '.pt'\n",
    "#     )\n",
    "\n",
    "#     # inference\n",
    "#     file_names, preds = infer_manager.run_test(\n",
    "#         model=model,\n",
    "#         data_loader=test_data_loader,\n",
    "#         binary_segmentation=True\n",
    "#     )  # output=logits, file_number=837, [file_number,size*size]=[837, 65536]\n",
    "#     # output=logits [class_number=11, file_number=837, size*size]\n",
    "#     preds_list.append(preds/255.0)\n",
    "#     file_names_list.append(file_names)"
   ]
  },
  {
   "cell_type": "code",
   "execution_count": null,
   "metadata": {},
   "outputs": [],
   "source": [
    "# print(len(file_names_list)) # 11, 837\n",
    "# print(len(file_names_list[0]))\n",
    "# print(len(preds_list))\n",
    "# preds_np = np.array(preds_list)\n",
    "\n",
    "# for idx in range(12):\n",
    "#   print(file_names_list[idx][43])"
   ]
  },
  {
   "cell_type": "code",
   "execution_count": null,
   "metadata": {},
   "outputs": [],
   "source": [
    "# # [class_number, file_number, size*size] = [11, 837, 65536]\n",
    "# preds_np = np.array(preds_list)\n",
    "# # [file_number, size*size] = [837, 65536]\n",
    "# preds_fg = np.argmax(preds_np, axis=0) + 1\n",
    "# preds_bg_temp = np.where(preds_np > 0.5, 1, 0)\n",
    "# preds_bg = np.where(np.sum(preds_bg_temp, axis=0) == 0, 1, 0)\n",
    "# preds = (1-preds_bg) * preds_fg\n",
    "\n",
    "\n",
    "\n",
    "# print(file_names.index('batch_01_vt/0584.jpg'))\n",
    "# for idx in range(11):\n",
    "#     print(file_names_list[idx][43])\n",
    "#     plt.imshow(preds_np[idx][43].reshape(256,256))\n",
    "#     plt.savefig('/home/weebee/recyclables/baseline/saved/trash/preds_np_' + str(idx) + '.png')\n",
    "#     im = plt.imshow(preds_bg_temp[idx][43].reshape(256,256), cmap='gray')\n",
    "#     plt.savefig('/home/weebee/recyclables/baseline/saved/trash/preds_bg_temp_' + str(idx) + '.png')\n",
    "# im = plt.imshow(preds_fg[43].reshape(256,256), cmap='gray')\n",
    "# plt.colorbar(im)\n",
    "# plt.savefig('/home/weebee/recyclables/baseline/saved/trash/preds_fg.png')\n",
    "# im = plt.imshow(preds_bg[43].reshape(256,256), cmap='gray')\n",
    "# plt.savefig('/home/weebee/recyclables/baseline/saved/trash/preds_bg.png')\n",
    "# im = plt.imshow(preds[43].reshape(256,256), cmap='gray')\n",
    "# plt.savefig('/home/weebee/recyclables/baseline/saved/trash/preds.png')\n",
    "\n",
    "# # fig, (ax11, ax12, ax13, ax14) = plt.subplots(nrows=1, ncols=4, figsize=(30, 10))\n",
    "\n",
    "# # # Original image\n",
    "# # # [class_number=0, file_number=idx\n",
    "# # im11 = ax11.imshow(preds_np[2][0].reshape(256, 256), cmap='gray')\n",
    "# # ax11.grid(False)\n",
    "# # ax11.set_title(\"Original image : {}\".format(\n",
    "# #     file_names[723]), fontsize=15)\n",
    "# # plt.colorbar(mappable=im11, ax=ax11)\n",
    "\n",
    "# # # Predicted forground\n",
    "# # im12 = ax12.imshow(preds_fg[0].reshape(256, 256), cmap='gray')\n",
    "# # ax12.grid(False)\n",
    "# # ax12.set_title(\"Predicted : {}\".format(\n",
    "# #     file_names[723]), fontsize=15)\n",
    "# # plt.colorbar(mappable=im12, ax=ax12)\n",
    "\n",
    "# # # Predicted background\n",
    "# # im13 = ax13.imshow(preds_bg[0].reshape(256, 256), cmap='gray')\n",
    "# # ax13.grid(False)\n",
    "# # ax13.set_title(\"Predicted : {}\".format(\n",
    "# #     file_names[723]), fontsize=15)\n",
    "# # plt.colorbar(mappable=im13, ax=ax13)\n",
    "\n",
    "# # # Predicted image\n",
    "# # im14 = ax14.imshow(preds[0].reshape(256, 256), cmap='gray')\n",
    "# # ax14.grid(False)\n",
    "# # ax14.set_title(\"Predicted : {}\".format(\n",
    "# #     file_names[723]), fontsize=15)\n",
    "# # plt.colorbar(mappable=im14, ax=ax14)"
   ]
  },
  {
   "cell_type": "code",
   "execution_count": null,
   "metadata": {},
   "outputs": [],
   "source": [
    "\n",
    "# import matplotlib.image as img\n",
    "\n",
    "# for img_idx in range(5):\n",
    "#     file_number = np.random.choice(len(preds), 5) # 837, 5\n",
    "#     print(file_number)\n",
    "\n",
    "#     fig, axs = plt.subplots(nrows=len(file_number), ncols=4, figsize=(40, 40))\n",
    "#     font_size = 20\n",
    "#     for idx in range(len(file_number)):\n",
    "#         # Original image\n",
    "#         im1 = axs[idx][0].imshow(img.imread(os.path.join(dataset_dir, file_names_list[idx][file_number[idx]])))\n",
    "#         axs[idx][0].grid(False)\n",
    "#         axs[idx][0].set_title(\"Original image : {}\".format(\n",
    "#             file_names_list[idx][file_number[idx]]), fontsize=font_size)\n",
    "#         plt.colorbar(mappable=im1, ax=axs[idx][0])\n",
    "\n",
    "#         # Predicted forground\n",
    "#         im2 = axs[idx][1].imshow(preds_fg[file_number[idx]].reshape(256, 256), cmap='gray')\n",
    "#         axs[idx][1].grid(False)\n",
    "#         axs[idx][1].set_title(\"foreground only : {}\".format(\n",
    "#             file_names_list[idx][file_number[idx]]), fontsize=font_size)\n",
    "#         plt.colorbar(mappable=im2, ax=axs[idx][1])\n",
    "\n",
    "#         # Predicted background\n",
    "#         im3 = axs[idx][2].imshow(preds_bg[file_number[idx]].reshape(256, 256), cmap='gray')\n",
    "#         axs[idx][2].grid(False)\n",
    "#         axs[idx][2].set_title(\"background only : {}\".format(\n",
    "#             file_names_list[idx][file_number[idx]]), fontsize=font_size)\n",
    "#         plt.colorbar(mappable=im3, ax=axs[idx][2])\n",
    "\n",
    "#         # Predicted image\n",
    "#         im4 = axs[idx][3].imshow(preds[file_number[idx]].reshape(256, 256), cmap='gray')\n",
    "#         axs[idx][3].grid(False)\n",
    "#         axs[idx][3].set_title(\"Predicted : {}\".format(\n",
    "#             [{int(class_number), Utils.get_classes()[\n",
    "#                       int(class_number)]} for class_number in list(np.unique(preds[file_number[idx]]))]), fontsize=font_size)\n",
    "#         plt.colorbar(mappable=im4, ax=axs[idx][3])\n",
    "\n",
    "#     fig_name = os.path.join(save_dir, 'submission_' + str(img_idx) + '.png')\n",
    "#     plt.savefig(fig_name)\n",
    "#     plt.show()"
   ]
  },
  {
   "cell_type": "code",
   "execution_count": null,
   "metadata": {},
   "outputs": [],
   "source": [
    "# submission = pd.DataFrame()\n",
    "# submission['image_id'] = file_names\n",
    "# submission['PredictionString'] = [\n",
    "#     ' '.join(str(e) for e in string.tolist()) for string in preds]\n",
    "\n",
    "# # save submission.csv\n",
    "# submission_path = os.path.join(save_dir, 'submission.csv')\n",
    "# submission.to_csv(submission_path, index=False)"
   ]
  }
 ],
 "metadata": {
  "interpreter": {
   "hash": "31f2aee4e71d21fbe5cf8b01ff0e069b9275f58929596ceb00d14d90e3e16cd6"
  },
  "kernelspec": {
   "display_name": "Python 3.8.10 64-bit",
   "name": "python3"
  },
  "language_info": {
   "codemirror_mode": {
    "name": "ipython",
    "version": 3
   },
   "file_extension": ".py",
   "mimetype": "text/x-python",
   "name": "python",
   "nbconvert_exporter": "python",
   "pygments_lexer": "ipython3",
   "version": "3.8.10"
  },
  "orig_nbformat": 4
 },
 "nbformat": 4,
 "nbformat_minor": 2
}
