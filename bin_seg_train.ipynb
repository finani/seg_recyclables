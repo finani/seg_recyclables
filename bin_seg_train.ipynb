{
 "cells": [
  {
   "cell_type": "markdown",
   "metadata": {},
   "source": [
    "# Train Binary Segmentation\n",
    "Classes =  ['Background', 'UNKNOWN', 'General trash', 'Paper', 'Paper pack', 'Metal', 'Glass', 'Plastic', 'Styrofoam', 'Plastic bag', 'Battery', 'Clothing']"
   ]
  },
  {
   "cell_type": "markdown",
   "metadata": {},
   "source": [
    "## Configures"
   ]
  },
  {
   "cell_type": "code",
   "execution_count": 1,
   "metadata": {},
   "outputs": [],
   "source": [
    "import os\n",
    "import sys\n",
    "\n",
    "import torch\n",
    "import numpy as np\n",
    "\n",
    "import segmentation_models_pytorch as smp\n",
    "from torch.optim import lr_scheduler\n",
    "\n",
    "import Utils\n",
    "from ModelManager import ModelManager\n",
    "from DataManager import DataManager, CustomAugmentation\n",
    "from TrainManager import TrainManager\n",
    "from InferManager import InferManager\n",
    "from LossManager import DiceLoss\n",
    "from LearningRateManager import CustomCosineAnnealingWarmUpRestarts\n",
    "\n",
    "Utils.fix_random_seed(random_seed=21)\n",
    "\n",
    "project_dir = '/home/weebee/recyclables/baseline'\n",
    "dataset_dir = os.path.join(project_dir, 'input')\n",
    "save_dir = os.path.join(project_dir, 'saved/test_1')\n",
    "if not os.path.isdir(dataset_dir):\n",
    "    sys.exit('check dataset path!!')\n",
    "if not os.path.isdir(save_dir):\n",
    "    os.mkdir(save_dir)\n",
    "\n",
    "batch_size = 5\n",
    "number_worker = 4\n",
    "epochs = 1\n",
    "learning_rate = 1e-4\n",
    "\n",
    "encoder = 'resnet101'\n",
    "encoder_weights = 'imagenet'\n",
    "activation = None\n",
    "multi_gpu = False\n",
    "\n",
    "transform = CustomAugmentation.to_tensor_transform()\n"
   ]
  },
  {
   "cell_type": "code",
   "execution_count": 2,
   "metadata": {},
   "outputs": [
    {
     "name": "stdout",
     "output_type": "stream",
     "text": [
      "['Background', 'UNKNOWN', 'General trash', 'Paper', 'Paper pack', 'Metal', 'Glass', 'Plastic', 'Styrofoam', 'Plastic bag', 'Battery', 'Clothing']\n"
     ]
    }
   ],
   "source": [
    "print(Utils.get_classes())\n",
    "\n",
    "# Make Model\n",
    "model_manager = ModelManager()\n",
    "model = model_manager.make_deeplabv3plus_model(\n",
    "    encoder=encoder,\n",
    "    encoder_weights=encoder_weights,\n",
    "    class_number=2,\n",
    "    activation=activation,\n",
    "    multi_gpu=multi_gpu\n",
    ")\n",
    "\n",
    "criterion = smp.utils.losses.CrossEntropyLoss()\n",
    "# criterion = smp.utils.losses.BCEWithLogitsLoss()\n",
    "# criterion = tgm.losses.DiceLoss()\n",
    "# criterion = DiceLoss()\n",
    "# criterion = smp.utils.losses.JaccardLoss()\n",
    "\n",
    "optimizer = torch.optim.Adam(\n",
    "    [dict(params=model.parameters(),\n",
    "          lr=learning_rate\n",
    "          ),\n",
    "     ])\n",
    "\n",
    "lr_scheduler = None\n",
    "# lr_scheduler = torch.optim.lr_scheduler.OneCycleLR(\n",
    "#     optimizer, max_lr=0.01, steps_per_epoch=10, epochs=epochs, anneal_strategy='cos'\n",
    "# )\n",
    "# lr_scheduler = torch.optim.lr_scheduler.CosineAnnealingWarmRestarts(\n",
    "#     optimizer, T_0=1, T_mult=2, eta_min=5e-5,\n",
    "# )\n",
    "# lr_scheduler = CustomCosineAnnealingWarmUpRestarts(\n",
    "#     optimizer, T_0=20, T_mult=1, eta_max=0.1,  T_up=2, gamma=0.5\n",
    "# )\n",
    "\n",
    "data_manager = DataManager(dataset_path=dataset_dir)\n",
    "train_manager = TrainManager()\n",
    "infer_manager = InferManager()"
   ]
  },
  {
   "cell_type": "markdown",
   "metadata": {},
   "source": [
    "## Train each class"
   ]
  },
  {
   "cell_type": "code",
   "execution_count": 3,
   "metadata": {},
   "outputs": [
    {
     "name": "stdout",
     "output_type": "stream",
     "text": [
      "loading annotations into memory...\n",
      "Done (t=2.34s)\n",
      "creating index...\n",
      "index created!\n",
      "loading annotations into memory...\n",
      "Done (t=0.78s)\n",
      "creating index...\n",
      "index created!\n",
      "\n",
      "Start training..\n",
      "num_epochs: 1\n",
      "save_dir: /home/weebee/recyclables/baseline/saved/test_1\n",
      "file_name: best_model_target_paper.pt\n",
      "val_every: 1\n",
      "\n"
     ]
    },
    {
     "name": "stderr",
     "output_type": "stream",
     "text": [
      "Epoch: 0/1, Time: 2021-12-27 14:15:07, lr: 0.0001: 100%|██████████| 524/524 [04:46<00:00,  1.83it/s, loss=0.206, mean_loss=0.202]\n"
     ]
    },
    {
     "name": "stdout",
     "output_type": "stream",
     "text": [
      "\n",
      "Start validation #1\n"
     ]
    },
    {
     "name": "stderr",
     "output_type": "stream",
     "text": [
      "Epoch: 1: 100%|██████████| 131/131 [00:23<00:00,  5.55it/s, mIoU=0.648, mIoU_list=0.757]\n"
     ]
    },
    {
     "name": "stdout",
     "output_type": "stream",
     "text": [
      "Validation #1  Average Loss: 0.1276, mIoU: 0.7572\n",
      "Best performance at epoch: 1\n",
      "Save model in /home/weebee/recyclables/baseline/saved/test_1\n"
     ]
    }
   ],
   "source": [
    "for target_class in Utils.get_classes():\n",
    "    # Set Target class\n",
    "    target_classes = ['Background']\n",
    "    target_classes.append(target_class)\n",
    "\n",
    "    # Load Dataset\n",
    "    data_manager.assignDataLoaders(\n",
    "        batch_size=batch_size,\n",
    "        shuffle=True,\n",
    "        number_worker=number_worker,\n",
    "        drop_last=False,\n",
    "        transform=transform,\n",
    "        target_segmentation=True,\n",
    "        target_classes=target_classes\n",
    "    )\n",
    "\n",
    "    # Run Train\n",
    "    model = train_manager.run_train(\n",
    "        model=model,\n",
    "        num_epochs=epochs,\n",
    "        data_loader=data_manager.train_data_loader,\n",
    "        val_loader=data_manager.val_data_loader,\n",
    "        criterion=criterion,\n",
    "        optimizer=optimizer,\n",
    "        lr_scheduler=lr_scheduler,\n",
    "        save_dir=save_dir,\n",
    "        file_name='best_model_target_' + '_'.join([v.lower() for v in target_classes[1:]]) + '.pt',\n",
    "        class_number=len(target_classes),\n",
    "        val_every=1\n",
    "    )\n",
    "\n",
    "    # Check Trained Model\n",
    "    infer_manager.run_predict(\n",
    "        model=model,\n",
    "        data_loader=data_manager.val_data_loader,\n",
    "        data_index_list=range(0, batch_size, int(batch_size/5)),  # data_index < batch_size\n",
    "        save_dir=save_dir,\n",
    "        class_name_list=target_classes,\n",
    "        mode='val'\n",
    "    )\n"
   ]
  }
 ],
 "metadata": {
  "interpreter": {
   "hash": "31f2aee4e71d21fbe5cf8b01ff0e069b9275f58929596ceb00d14d90e3e16cd6"
  },
  "kernelspec": {
   "display_name": "Python 3.8.10 64-bit",
   "name": "python3"
  },
  "language_info": {
   "codemirror_mode": {
    "name": "ipython",
    "version": 3
   },
   "file_extension": ".py",
   "mimetype": "text/x-python",
   "name": "python",
   "nbconvert_exporter": "python",
   "pygments_lexer": "ipython3",
   "version": "3.8.10"
  },
  "orig_nbformat": 4
 },
 "nbformat": 4,
 "nbformat_minor": 2
}
