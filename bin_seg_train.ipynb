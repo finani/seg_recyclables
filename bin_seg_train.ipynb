{
 "cells": [
  {
   "cell_type": "code",
   "execution_count": 1,
   "metadata": {},
   "outputs": [],
   "source": [
    "# from google.colab import drive\n",
    "# drive.mount('/content/drive')"
   ]
  },
  {
   "cell_type": "code",
   "execution_count": 2,
   "metadata": {},
   "outputs": [],
   "source": [
    "# # Install required libs\n",
    "# !pip install git+https://github.com/qubvel/segmentation_models.pytorch\n",
    "# !pip install albumentations==0.4.6"
   ]
  },
  {
   "cell_type": "code",
   "execution_count": 3,
   "metadata": {},
   "outputs": [],
   "source": [
    "# !sudo rm -rf /content/seg_recyclables\n",
    "# !git clone https://github.com/finani/seg_recyclables.git\n",
    "\n",
    "# import sys\n",
    "# sys.path.append('/content/seg_recyclables')"
   ]
  },
  {
   "cell_type": "code",
   "execution_count": 4,
   "metadata": {},
   "outputs": [
    {
     "name": "stdout",
     "output_type": "stream",
     "text": [
      "Mon Dec 27 15:11:16 2021       \n",
      "+-----------------------------------------------------------------------------+\n",
      "| NVIDIA-SMI 470.86       Driver Version: 470.86       CUDA Version: 11.4     |\n",
      "|-------------------------------+----------------------+----------------------+\n",
      "| GPU  Name        Persistence-M| Bus-Id        Disp.A | Volatile Uncorr. ECC |\n",
      "| Fan  Temp  Perf  Pwr:Usage/Cap|         Memory-Usage | GPU-Util  Compute M. |\n",
      "|                               |                      |               MIG M. |\n",
      "|===============================+======================+======================|\n",
      "|   0  NVIDIA GeForce ...  Off  | 00000000:01:00.0  On |                  N/A |\n",
      "| N/A   61C    P0    25W /  N/A |    441MiB /  7982MiB |     38%      Default |\n",
      "|                               |                      |                  N/A |\n",
      "+-------------------------------+----------------------+----------------------+\n",
      "                                                                               \n",
      "+-----------------------------------------------------------------------------+\n",
      "| Processes:                                                                  |\n",
      "|  GPU   GI   CI        PID   Type   Process name                  GPU Memory |\n",
      "|        ID   ID                                                   Usage      |\n",
      "|=============================================================================|\n",
      "|    0   N/A  N/A      1152      G   /usr/lib/xorg/Xorg                197MiB |\n",
      "|    0   N/A  N/A      1686      G   /usr/bin/gnome-shell               30MiB |\n",
      "|    0   N/A  N/A      2139      G   ...mviewer/tv_bin/TeamViewer        2MiB |\n",
      "|    0   N/A  N/A      2610      G   ...AAAAAAAAA= --shared-files       23MiB |\n",
      "|    0   N/A  N/A      4907      G   ...AAAAAAAAA= --shared-files       78MiB |\n",
      "|    0   N/A  N/A      7261      G   ...AAAAAAAAA= --shared-files      105MiB |\n",
      "+-----------------------------------------------------------------------------+\n",
      "\n",
      "Your runtime has 67.3 gigabytes of available RAM\n",
      "\n",
      "You are using a high-RAM runtime!\n",
      "\n",
      "Pytorch version: 1.10.1+cu102\n",
      "Is GPU available: True\n",
      "NVIDIA GeForce RTX 2080 with Max-Q Design\n",
      "The number of GPUs available: 1\n",
      "CPU count: 12\n",
      "Cuda version: 10.2\n",
      "Cudnn version: 7.6.5\n"
     ]
    }
   ],
   "source": [
    "gpu_info = !nvidia-smi\n",
    "gpu_info = '\\n'.join(gpu_info)\n",
    "if gpu_info.find('failed') >= 0:\n",
    "  print('Not connected to a GPU')\n",
    "else:\n",
    "  print(gpu_info)\n",
    "\n",
    "print('')\n",
    "\n",
    "from psutil import virtual_memory\n",
    "ram_gb = virtual_memory().total / 1e9\n",
    "print('Your runtime has {:.1f} gigabytes of available RAM\\n'.format(ram_gb))\n",
    "\n",
    "if ram_gb < 20:\n",
    "  print('Not using a high-RAM runtime')\n",
    "else:\n",
    "  print('You are using a high-RAM runtime!')\n",
    "\n",
    "print('')\n",
    "\n",
    "import os\n",
    "import torch\n",
    "print('Pytorch version: {}'.format(torch.__version__))\n",
    "print('Is GPU available: {}'.format(torch.cuda.is_available()))\n",
    "if torch.cuda.is_available():\n",
    "  print(torch.cuda.get_device_name(0))\n",
    "  print('The number of GPUs available: {}'.format(torch.cuda.device_count())) # Tesla P100-PCIE-16GB\n",
    "DEVICE = \"cuda\" if torch.cuda.is_available() else \"cpu\"\n",
    "\n",
    "print('CPU count: {}'.format(os.cpu_count()))  # 8\n",
    "\n",
    "cuda = torch.version.cuda\n",
    "cudnn = torch.backends.cudnn.version()\n",
    "cudnn_major = cudnn // 1000\n",
    "cudnn = cudnn % 1000\n",
    "cudnn_minor = cudnn // 100\n",
    "cudnn_patch = cudnn % 100\n",
    "print('Cuda version: {}'.format(cuda)) # 11.1\n",
    "print('Cudnn version: {}.{}.{}'.format(cudnn_major, cudnn_minor, cudnn_patch)) # 8.0.5\n"
   ]
  },
  {
   "cell_type": "markdown",
   "metadata": {},
   "source": [
    "# Train Binary Segmentation\n",
    "Classes =  ['Background', 'UNKNOWN', 'General trash', 'Paper', 'Paper pack', 'Metal', 'Glass', 'Plastic', 'Styrofoam', 'Plastic bag', 'Battery', 'Clothing']"
   ]
  },
  {
   "cell_type": "markdown",
   "metadata": {},
   "source": [
    "## Configures"
   ]
  },
  {
   "cell_type": "code",
   "execution_count": 5,
   "metadata": {},
   "outputs": [],
   "source": [
    "import os\n",
    "import sys\n",
    "\n",
    "import torch\n",
    "import numpy as np\n",
    "\n",
    "import segmentation_models_pytorch as smp\n",
    "from torch.optim import lr_scheduler\n",
    "\n",
    "import Utils\n",
    "from ModelManager import ModelManager\n",
    "from DataManager import DataManager, CustomAugmentation\n",
    "from TrainManager import TrainManager\n",
    "from InferManager import InferManager\n",
    "from LossManager import DiceLoss\n",
    "from LearningRateManager import CustomCosineAnnealingWarmUpRestarts\n",
    "\n",
    "Utils.fix_random_seed(random_seed=21)\n",
    "\n",
    "project_dir = '/home/weebee/recyclables/baseline'\n",
    "dataset_dir = os.path.join(project_dir, 'input')\n",
    "save_dir = os.path.join(project_dir, 'saved/test_1')\n",
    "if not os.path.isdir(dataset_dir):\n",
    "    sys.exit('check dataset path!!')\n",
    "if not os.path.isdir(save_dir):\n",
    "    os.mkdir(save_dir)\n",
    "\n",
    "batch_size = 5\n",
    "number_worker = 4\n",
    "epochs = 1\n",
    "learning_rate = 1e-4\n",
    "\n",
    "encoder = 'resnet101'\n",
    "encoder_weights = 'imagenet'\n",
    "activation = None\n",
    "multi_gpu = False\n",
    "\n",
    "transform = CustomAugmentation.to_tensor_transform()"
   ]
  },
  {
   "cell_type": "code",
   "execution_count": 6,
   "metadata": {},
   "outputs": [],
   "source": [
    "# Make Model\n",
    "model_manager = ModelManager()\n",
    "model = model_manager.make_deeplabv3plus_model(\n",
    "    encoder=encoder,\n",
    "    encoder_weights=encoder_weights,\n",
    "    class_number=2,\n",
    "    activation=activation,\n",
    "    multi_gpu=multi_gpu\n",
    ")\n",
    "\n",
    "criterion = smp.utils.losses.CrossEntropyLoss()\n",
    "# criterion = smp.utils.losses.BCEWithLogitsLoss()\n",
    "# criterion = tgm.losses.DiceLoss()\n",
    "# criterion = DiceLoss()\n",
    "# criterion = smp.utils.losses.JaccardLoss()\n",
    "\n",
    "optimizer = torch.optim.Adam(\n",
    "    [dict(params=model.parameters(),\n",
    "          lr=learning_rate\n",
    "          ),\n",
    "     ])\n",
    "\n",
    "lr_scheduler = None\n",
    "# lr_scheduler = torch.optim.lr_scheduler.OneCycleLR(\n",
    "#     optimizer, max_lr=0.01, steps_per_epoch=10, epochs=epochs, anneal_strategy='cos'\n",
    "# )\n",
    "# lr_scheduler = torch.optim.lr_scheduler.CosineAnnealingWarmRestarts(\n",
    "#     optimizer, T_0=1, T_mult=2, eta_min=5e-5,\n",
    "# )\n",
    "# lr_scheduler = CustomCosineAnnealingWarmUpRestarts(\n",
    "#     optimizer, T_0=20, T_mult=1, eta_max=0.1,  T_up=2, gamma=0.5\n",
    "# )\n",
    "\n",
    "data_manager = DataManager(dataset_path=dataset_dir)\n",
    "train_manager = TrainManager()\n",
    "infer_manager = InferManager()\n",
    "\n",
    "print(Utils.get_classes())"
   ]
  },
  {
   "cell_type": "markdown",
   "metadata": {},
   "source": [
    "## Train each class"
   ]
  },
  {
   "cell_type": "code",
   "execution_count": null,
   "metadata": {},
   "outputs": [
    {
     "name": "stdout",
     "output_type": "stream",
     "text": [
      "\n",
      "\ttarget_class: UNKNOWN\n",
      "\n",
      "loading annotations into memory...\n",
      "Done (t=2.37s)\n",
      "creating index...\n",
      "index created!\n",
      "loading annotations into memory...\n",
      "Done (t=0.84s)\n",
      "creating index...\n",
      "index created!\n",
      "\n",
      "Start training..\n",
      "num_epochs: 1\n",
      "save_dir: /home/weebee/recyclables/baseline/saved/test_1\n",
      "file_name: best_model_target_unknown.pt\n",
      "val_every: 1\n",
      "\n"
     ]
    },
    {
     "name": "stderr",
     "output_type": "stream",
     "text": [
      "Epoch: 0/1, Time: 2021-12-27 15:09:02, lr: 0.0001:  38%|███▊      | 200/524 [01:57<03:13,  1.68it/s, loss=0.0325, mean_loss=0.149]"
     ]
    }
   ],
   "source": [
    "for target_class in Utils.get_classes()[1:]:\n",
    "    # Set Target class\n",
    "    target_classes = ['Background']\n",
    "    target_classes.append(target_class)\n",
    "    print('\\n\\ttarget_class: {}\\n'.format(target_class))\n",
    "\n",
    "    # Load Dataset\n",
    "    data_manager.assignDataLoaders(\n",
    "        batch_size=batch_size,\n",
    "        shuffle=True,\n",
    "        number_worker=number_worker,\n",
    "        drop_last=False,\n",
    "        transform=transform,\n",
    "        target_segmentation=True,\n",
    "        target_classes=target_classes\n",
    "    )\n",
    "\n",
    "    # Run Train\n",
    "    model = train_manager.run_train(\n",
    "        model=model,\n",
    "        num_epochs=epochs,\n",
    "        data_loader=data_manager.train_data_loader,\n",
    "        val_loader=data_manager.val_data_loader,\n",
    "        criterion=criterion,\n",
    "        optimizer=optimizer,\n",
    "        lr_scheduler=lr_scheduler,\n",
    "        save_dir=save_dir,\n",
    "        file_name='best_model_target_' + '_'.join([v.lower() for v in target_classes[1:]]) + '.pt',\n",
    "        class_number=len(target_classes),\n",
    "        val_every=1\n",
    "    )\n",
    "\n",
    "    # Check Trained Model\n",
    "    infer_manager.run_predict(\n",
    "        model=model,\n",
    "        data_loader=data_manager.val_data_loader,\n",
    "        data_index_list=range(0, batch_size, int(batch_size/5)),  # data_index < batch_size\n",
    "        save_dir=save_dir,\n",
    "        class_name_list=target_classes,\n",
    "        mode='val'\n",
    "    )"
   ]
  }
 ],
 "metadata": {
  "interpreter": {
   "hash": "31f2aee4e71d21fbe5cf8b01ff0e069b9275f58929596ceb00d14d90e3e16cd6"
  },
  "kernelspec": {
   "display_name": "Python 3.8.10 64-bit",
   "name": "python3"
  },
  "language_info": {
   "codemirror_mode": {
    "name": "ipython",
    "version": 3
   },
   "file_extension": ".py",
   "mimetype": "text/x-python",
   "name": "python",
   "nbconvert_exporter": "python",
   "pygments_lexer": "ipython3",
   "version": "3.8.10"
  },
  "orig_nbformat": 4
 },
 "nbformat": 4,
 "nbformat_minor": 2
}
