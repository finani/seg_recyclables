{
 "cells": [
  {
   "cell_type": "code",
   "execution_count": 1,
   "metadata": {},
   "outputs": [],
   "source": [
    "# from google.colab import drive\n",
    "# drive.mount('/content/drive')"
   ]
  },
  {
   "cell_type": "code",
   "execution_count": 2,
   "metadata": {},
   "outputs": [],
   "source": [
    "# # Install required libs\n",
    "# !pip install git+https://github.com/qubvel/segmentation_models.pytorch\n",
    "# !pip install albumentations==0.4.6"
   ]
  },
  {
   "cell_type": "code",
   "execution_count": 3,
   "metadata": {},
   "outputs": [],
   "source": [
    "# !sudo rm -rf /content/seg_recyclables\n",
    "# !git clone https://github.com/finani/seg_recyclables.git\n",
    "\n",
    "# import sys\n",
    "# sys.path.append('/content/seg_recyclables')"
   ]
  },
  {
   "cell_type": "code",
   "execution_count": 4,
   "metadata": {},
   "outputs": [
    {
     "name": "stdout",
     "output_type": "stream",
     "text": [
      "Tue Dec 28 00:58:28 2021       \n",
      "+-----------------------------------------------------------------------------+\n",
      "| NVIDIA-SMI 470.86       Driver Version: 470.86       CUDA Version: 11.4     |\n",
      "|-------------------------------+----------------------+----------------------+\n",
      "| GPU  Name        Persistence-M| Bus-Id        Disp.A | Volatile Uncorr. ECC |\n",
      "| Fan  Temp  Perf  Pwr:Usage/Cap|         Memory-Usage | GPU-Util  Compute M. |\n",
      "|                               |                      |               MIG M. |\n",
      "|===============================+======================+======================|\n",
      "|   0  NVIDIA GeForce ...  Off  | 00000000:01:00.0  On |                  N/A |\n",
      "| N/A   50C    P5    21W /  N/A |    712MiB /  7982MiB |     27%      Default |\n",
      "|                               |                      |                  N/A |\n",
      "+-------------------------------+----------------------+----------------------+\n",
      "                                                                               \n",
      "+-----------------------------------------------------------------------------+\n",
      "| Processes:                                                                  |\n",
      "|  GPU   GI   CI        PID   Type   Process name                  GPU Memory |\n",
      "|        ID   ID                                                   Usage      |\n",
      "|=============================================================================|\n",
      "|    0   N/A  N/A      1152      G   /usr/lib/xorg/Xorg                391MiB |\n",
      "|    0   N/A  N/A      1686      G   /usr/bin/gnome-shell               55MiB |\n",
      "|    0   N/A  N/A      2139      G   ...mviewer/tv_bin/TeamViewer       37MiB |\n",
      "|    0   N/A  N/A      2610      G   ...AAAAAAAAA= --shared-files       22MiB |\n",
      "|    0   N/A  N/A      4907      G   ...AAAAAAAAA= --shared-files      115MiB |\n",
      "|    0   N/A  N/A      7261      G   ...AAAAAAAAA= --shared-files       83MiB |\n",
      "+-----------------------------------------------------------------------------+\n",
      "\n",
      "Your runtime has 67.3 gigabytes of available RAM\n",
      "\n",
      "You are using a high-RAM runtime!\n",
      "\n",
      "Pytorch version: 1.10.1+cu102\n",
      "Is GPU available: True\n",
      "NVIDIA GeForce RTX 2080 with Max-Q Design\n",
      "The number of GPUs available: 1\n",
      "CPU count: 12\n",
      "Cuda version: 10.2\n",
      "Cudnn version: 7.6.5\n"
     ]
    }
   ],
   "source": [
    "gpu_info = !nvidia-smi\n",
    "gpu_info = '\\n'.join(gpu_info)\n",
    "if gpu_info.find('failed') >= 0:\n",
    "  print('Not connected to a GPU')\n",
    "else:\n",
    "  print(gpu_info)\n",
    "\n",
    "print('')\n",
    "\n",
    "from psutil import virtual_memory\n",
    "ram_gb = virtual_memory().total / 1e9\n",
    "print('Your runtime has {:.1f} gigabytes of available RAM\\n'.format(ram_gb))\n",
    "\n",
    "if ram_gb < 20:\n",
    "  print('Not using a high-RAM runtime')\n",
    "else:\n",
    "  print('You are using a high-RAM runtime!')\n",
    "\n",
    "print('')\n",
    "\n",
    "import os\n",
    "import torch\n",
    "print('Pytorch version: {}'.format(torch.__version__))\n",
    "print('Is GPU available: {}'.format(torch.cuda.is_available()))\n",
    "if torch.cuda.is_available():\n",
    "  print(torch.cuda.get_device_name(0))\n",
    "  print('The number of GPUs available: {}'.format(torch.cuda.device_count())) # Tesla P100-PCIE-16GB\n",
    "DEVICE = \"cuda\" if torch.cuda.is_available() else \"cpu\"\n",
    "\n",
    "print('CPU count: {}'.format(os.cpu_count()))  # 8\n",
    "\n",
    "cuda = torch.version.cuda\n",
    "cudnn = torch.backends.cudnn.version()\n",
    "cudnn_major = cudnn // 1000\n",
    "cudnn = cudnn % 1000\n",
    "cudnn_minor = cudnn // 100\n",
    "cudnn_patch = cudnn % 100\n",
    "print('Cuda version: {}'.format(cuda)) # 11.1\n",
    "print('Cudnn version: {}.{}.{}'.format(cudnn_major, cudnn_minor, cudnn_patch)) # 8.0.5\n"
   ]
  },
  {
   "cell_type": "markdown",
   "metadata": {},
   "source": [
    "# Train Binary Segmentation\n",
    "Classes =  ['Background', 'UNKNOWN', 'General trash', 'Paper', 'Paper pack', 'Metal', 'Glass', 'Plastic', 'Styrofoam', 'Plastic bag', 'Battery', 'Clothing']"
   ]
  },
  {
   "cell_type": "markdown",
   "metadata": {},
   "source": [
    "## Configures"
   ]
  },
  {
   "cell_type": "code",
   "execution_count": 5,
   "metadata": {},
   "outputs": [],
   "source": [
    "import os\n",
    "import sys\n",
    "\n",
    "import torch\n",
    "import numpy as np\n",
    "\n",
    "import segmentation_models_pytorch as smp\n",
    "from torch.optim import lr_scheduler\n",
    "\n",
    "import Utils\n",
    "from ModelManager import ModelManager\n",
    "from DataManager import DataManager, CustomAugmentation\n",
    "from TrainManager import TrainManager\n",
    "from InferManager import InferManager\n",
    "from LossManager import DiceLoss\n",
    "from LearningRateManager import CustomCosineAnnealingWarmUpRestarts\n",
    "\n",
    "Utils.fix_random_seed(random_seed=21)\n",
    "\n",
    "project_dir = '/home/weebee/recyclables/baseline'\n",
    "dataset_dir = os.path.join(project_dir, 'input')\n",
    "save_dir = os.path.join(project_dir, 'saved/tm_test')\n",
    "if not os.path.isdir(dataset_dir):\n",
    "    sys.exit('check dataset path!!')\n",
    "if not os.path.isdir(save_dir):\n",
    "    os.mkdir(save_dir)\n"
   ]
  },
  {
   "cell_type": "markdown",
   "metadata": {},
   "source": [
    "## Train each class"
   ]
  },
  {
   "cell_type": "code",
   "execution_count": 6,
   "metadata": {},
   "outputs": [
    {
     "name": "stdout",
     "output_type": "stream",
     "text": [
      "loading annotations into memory...\n",
      "Done (t=2.41s)\n",
      "creating index...\n",
      "index created!\n",
      "loading annotations into memory...\n"
     ]
    },
    {
     "name": "stderr",
     "output_type": "stream",
     "text": [
      "Failed to detect the name of this notebook, you can set it manually with the WANDB_NOTEBOOK_NAME environment variable to enable code saving.\n"
     ]
    },
    {
     "name": "stdout",
     "output_type": "stream",
     "text": [
      "Done (t=0.78s)\n",
      "creating index...\n",
      "index created!\n",
      "\n",
      "Start training..\n",
      "num_epochs: 1\n",
      "save_dir: /home/weebee/recyclables/baseline/saved/tm_test\n",
      "file_name: best_model_target_unknown.pt\n",
      "val_every: 1\n",
      "\n"
     ]
    },
    {
     "name": "stderr",
     "output_type": "stream",
     "text": [
      "wandb: Currently logged in as: inhwan-wee (use `wandb login --relogin` to force relogin)\n"
     ]
    },
    {
     "data": {
      "text/html": [
       "\n",
       "                    Syncing run <strong><a href=\"https://wandb.ai/inhwan-wee/test/runs/1tcd7b3o\" target=\"_blank\">absurd-energy-30</a></strong> to <a href=\"https://wandb.ai/inhwan-wee/test\" target=\"_blank\">Weights & Biases</a> (<a href=\"https://docs.wandb.com/integrations/jupyter.html\" target=\"_blank\">docs</a>).<br/>\n",
       "\n",
       "                "
      ],
      "text/plain": [
       "<IPython.core.display.HTML object>"
      ]
     },
     "metadata": {},
     "output_type": "display_data"
    },
    {
     "name": "stdout",
     "output_type": "stream",
     "text": [
      "\n"
     ]
    },
    {
     "name": "stderr",
     "output_type": "stream",
     "text": [
      "Epoch: 0/1, Time: 2021-12-28 00:58:40, lr: 0.0001: 100%|██████████| 524/524 [04:58<00:00,  1.75it/s, loss=0.0103, mean_loss=0.0697]\n"
     ]
    },
    {
     "name": "stdout",
     "output_type": "stream",
     "text": [
      "\n",
      "Start validation #1\n"
     ]
    },
    {
     "name": "stderr",
     "output_type": "stream",
     "text": [
      "Epoch: 1: 100%|██████████| 131/131 [00:24<00:00,  5.35it/s, mIoU_all=0.931, mIoU_batch=1]\n"
     ]
    },
    {
     "name": "stdout",
     "output_type": "stream",
     "text": [
      "\n",
      "Validation #1  Average Loss: 0.0133, mIoU_all: 0.9311\n",
      "Best performance at epoch or X0th epoch: 1\n",
      "Save model in /home/weebee/recyclables/baseline/saved/tm_test\n",
      "loading annotations into memory...\n",
      "Done (t=2.51s)\n",
      "creating index...\n",
      "index created!\n",
      "loading annotations into memory...\n",
      "Done (t=0.55s)\n",
      "creating index...\n",
      "index created!\n",
      "\n",
      "Start training..\n",
      "num_epochs: 1\n",
      "save_dir: /home/weebee/recyclables/baseline/saved/tm_test\n",
      "file_name: best_model_target_general trash.pt\n",
      "val_every: 1\n",
      "\n"
     ]
    },
    {
     "data": {
      "text/html": [
       "Finishing last run (ID:1tcd7b3o) before initializing another..."
      ],
      "text/plain": [
       "<IPython.core.display.HTML object>"
      ]
     },
     "metadata": {},
     "output_type": "display_data"
    },
    {
     "data": {
      "text/html": [
       "<br/>Waiting for W&B process to finish, PID 162553... <strong style=\"color:green\">(success).</strong>"
      ],
      "text/plain": [
       "<IPython.core.display.HTML object>"
      ]
     },
     "metadata": {},
     "output_type": "display_data"
    },
    {
     "data": {
      "text/html": [
       "<style>\n",
       "    table.wandb td:nth-child(1) { padding: 0 10px; text-align: right }\n",
       "    .wandb-row { display: flex; flex-direction: row; flex-wrap: wrap; width: 100% }\n",
       "    .wandb-col { display: flex; flex-direction: column; flex-basis: 100%; flex: 1; padding: 10px; }\n",
       "    </style>\n",
       "<div class=\"wandb-row\"><div class=\"wandb-col\">\n",
       "<h3>Run history:</h3><br/><table class=\"wandb\"><tr><td>Average Loss</td><td>▁</td></tr><tr><td>acc_all</td><td>▁</td></tr><tr><td>learning_rate</td><td>▁</td></tr><tr><td>mIoU_all</td><td>▁</td></tr></table><br/></div><div class=\"wandb-col\">\n",
       "<h3>Run summary:</h3><br/><table class=\"wandb\"><tr><td>Average Loss</td><td>0.01332</td></tr><tr><td>acc_all</td><td>0.99956</td></tr><tr><td>learning_rate</td><td>0.0001</td></tr><tr><td>mIoU_all</td><td>0.93108</td></tr></table>\n",
       "</div></div>\n",
       "Synced 5 W&B file(s), 3 media file(s), 0 artifact file(s) and 0 other file(s)\n",
       "<br/>Synced <strong style=\"color:#cdcd00\">absurd-energy-30</strong>: <a href=\"https://wandb.ai/inhwan-wee/test/runs/1tcd7b3o\" target=\"_blank\">https://wandb.ai/inhwan-wee/test/runs/1tcd7b3o</a><br/>\n",
       "Find logs at: <code>./wandb/run-20211228_005838-1tcd7b3o/logs</code><br/>\n"
      ],
      "text/plain": [
       "<IPython.core.display.HTML object>"
      ]
     },
     "metadata": {},
     "output_type": "display_data"
    },
    {
     "data": {
      "text/html": [
       "Successfully finished last run (ID:1tcd7b3o). Initializing new run:<br/>"
      ],
      "text/plain": [
       "<IPython.core.display.HTML object>"
      ]
     },
     "metadata": {},
     "output_type": "display_data"
    },
    {
     "data": {
      "text/html": [
       "\n",
       "                    Syncing run <strong><a href=\"https://wandb.ai/inhwan-wee/test/runs/3jjdwxp4\" target=\"_blank\">toasty-sun-31</a></strong> to <a href=\"https://wandb.ai/inhwan-wee/test\" target=\"_blank\">Weights & Biases</a> (<a href=\"https://docs.wandb.com/integrations/jupyter.html\" target=\"_blank\">docs</a>).<br/>\n",
       "\n",
       "                "
      ],
      "text/plain": [
       "<IPython.core.display.HTML object>"
      ]
     },
     "metadata": {},
     "output_type": "display_data"
    },
    {
     "name": "stdout",
     "output_type": "stream",
     "text": [
      "\n"
     ]
    },
    {
     "name": "stderr",
     "output_type": "stream",
     "text": [
      "Epoch: 0/1, Time: 2021-12-28 01:04:14, lr: 0.0001: 100%|██████████| 524/524 [05:00<00:00,  1.74it/s, loss=0.0948, mean_loss=0.16]\n"
     ]
    },
    {
     "name": "stdout",
     "output_type": "stream",
     "text": [
      "\n",
      "Start validation #1\n"
     ]
    },
    {
     "name": "stderr",
     "output_type": "stream",
     "text": [
      "Epoch: 1: 100%|██████████| 131/131 [00:24<00:00,  5.29it/s, mIoU_all=0.528, mIoU_batch=0.48]\n"
     ]
    },
    {
     "name": "stdout",
     "output_type": "stream",
     "text": [
      "\n",
      "Validation #1  Average Loss: 0.0888, mIoU_all: 0.5276\n",
      "Best performance at epoch or X0th epoch: 1\n",
      "Save model in /home/weebee/recyclables/baseline/saved/tm_test\n",
      "loading annotations into memory...\n",
      "Done (t=2.56s)\n",
      "creating index...\n",
      "index created!\n",
      "loading annotations into memory...\n",
      "Done (t=0.77s)\n",
      "creating index...\n",
      "index created!\n",
      "\n",
      "Start training..\n",
      "num_epochs: 1\n",
      "save_dir: /home/weebee/recyclables/baseline/saved/tm_test\n",
      "file_name: best_model_target_paper.pt\n",
      "val_every: 1\n",
      "\n"
     ]
    },
    {
     "data": {
      "text/html": [
       "Finishing last run (ID:3jjdwxp4) before initializing another..."
      ],
      "text/plain": [
       "<IPython.core.display.HTML object>"
      ]
     },
     "metadata": {},
     "output_type": "display_data"
    },
    {
     "data": {
      "text/html": [
       "<br/>Waiting for W&B process to finish, PID 163194... <strong style=\"color:green\">(success).</strong>"
      ],
      "text/plain": [
       "<IPython.core.display.HTML object>"
      ]
     },
     "metadata": {},
     "output_type": "display_data"
    },
    {
     "data": {
      "text/html": [
       "<style>\n",
       "    table.wandb td:nth-child(1) { padding: 0 10px; text-align: right }\n",
       "    .wandb-row { display: flex; flex-direction: row; flex-wrap: wrap; width: 100% }\n",
       "    .wandb-col { display: flex; flex-direction: column; flex-basis: 100%; flex: 1; padding: 10px; }\n",
       "    </style>\n",
       "<div class=\"wandb-row\"><div class=\"wandb-col\">\n",
       "<h3>Run history:</h3><br/><table class=\"wandb\"><tr><td>Average Loss</td><td>▁</td></tr><tr><td>acc_all</td><td>▁</td></tr><tr><td>learning_rate</td><td>▁</td></tr><tr><td>mIoU_all</td><td>▁</td></tr></table><br/></div><div class=\"wandb-col\">\n",
       "<h3>Run summary:</h3><br/><table class=\"wandb\"><tr><td>Average Loss</td><td>0.08883</td></tr><tr><td>acc_all</td><td>0.97894</td></tr><tr><td>learning_rate</td><td>0.0001</td></tr><tr><td>mIoU_all</td><td>0.52764</td></tr></table>\n",
       "</div></div>\n",
       "Synced 5 W&B file(s), 3 media file(s), 0 artifact file(s) and 0 other file(s)\n",
       "<br/>Synced <strong style=\"color:#cdcd00\">toasty-sun-31</strong>: <a href=\"https://wandb.ai/inhwan-wee/test/runs/3jjdwxp4\" target=\"_blank\">https://wandb.ai/inhwan-wee/test/runs/3jjdwxp4</a><br/>\n",
       "Find logs at: <code>./wandb/run-20211228_010408-3jjdwxp4/logs</code><br/>\n"
      ],
      "text/plain": [
       "<IPython.core.display.HTML object>"
      ]
     },
     "metadata": {},
     "output_type": "display_data"
    },
    {
     "data": {
      "text/html": [
       "Successfully finished last run (ID:3jjdwxp4). Initializing new run:<br/>"
      ],
      "text/plain": [
       "<IPython.core.display.HTML object>"
      ]
     },
     "metadata": {},
     "output_type": "display_data"
    },
    {
     "data": {
      "text/html": [
       "\n",
       "                    Syncing run <strong><a href=\"https://wandb.ai/inhwan-wee/test/runs/22ww11fc\" target=\"_blank\">logical-pond-32</a></strong> to <a href=\"https://wandb.ai/inhwan-wee/test\" target=\"_blank\">Weights & Biases</a> (<a href=\"https://docs.wandb.com/integrations/jupyter.html\" target=\"_blank\">docs</a>).<br/>\n",
       "\n",
       "                "
      ],
      "text/plain": [
       "<IPython.core.display.HTML object>"
      ]
     },
     "metadata": {},
     "output_type": "display_data"
    },
    {
     "name": "stdout",
     "output_type": "stream",
     "text": [
      "\n"
     ]
    },
    {
     "name": "stderr",
     "output_type": "stream",
     "text": [
      "Epoch: 0/1, Time: 2021-12-28 01:09:50, lr: 0.0001:  40%|███▉      | 209/524 [02:01<03:05,  1.70it/s, loss=0.127, mean_loss=0.274]"
     ]
    }
   ],
   "source": [
    "for class_name in Utils.get_classes()[1:]:\n",
    "    # Set Configures\n",
    "    # target_classes = Utils.get_classes()\n",
    "    target_classes = ['Background']\n",
    "    target_classes.append(class_name)\n",
    "\n",
    "    config_dict = {\n",
    "        'project_name': 'test',\n",
    "        'run_name': '[TM] ' + class_name,\n",
    "        'network': 'DeepLabV3Plus',\n",
    "        'encoder': 'resnet101',\n",
    "        'encoder_weights': 'imagenet',\n",
    "        'target_classes': target_classes,\n",
    "        'activation': None,\n",
    "        'multi_gpu': False,\n",
    "        'num_epochs': 1,\n",
    "        'batch_size': 5,\n",
    "        'learning_rate_0': 1e-4,\n",
    "        'number_worker': 4,\n",
    "        'val_every': 1,\n",
    "        'note': 'test train'\n",
    "    }\n",
    "\n",
    "    # Make Model\n",
    "    model_manager = ModelManager()\n",
    "    model = model_manager.make_deeplabv3plus_model(\n",
    "        encoder=config_dict['encoder'],\n",
    "        encoder_weights=config_dict['encoder_weights'],\n",
    "        class_number=len(target_classes),\n",
    "        activation=config_dict['activation'],\n",
    "        multi_gpu=config_dict['multi_gpu']\n",
    "    )\n",
    "\n",
    "    # Load Dataset\n",
    "    data_manager = DataManager(dataset_path=dataset_dir)\n",
    "    data_manager.assignDataLoaders(\n",
    "        batch_size=config_dict['batch_size'],\n",
    "        shuffle=True,\n",
    "        number_worker=config_dict['number_worker'],\n",
    "        drop_last=False,\n",
    "        transform=CustomAugmentation.to_tensor_transform(),\n",
    "        target_segmentation=True,\n",
    "        target_classes=target_classes\n",
    "    )\n",
    "\n",
    "    criterion = smp.utils.losses.CrossEntropyLoss()\n",
    "    # criterion = smp.utils.losses.BCEWithLogitsLoss()\n",
    "    # criterion = tgm.losses.DiceLoss()\n",
    "    # criterion = DiceLoss()\n",
    "    # criterion = smp.utils.losses.JaccardLoss()\n",
    "\n",
    "    optimizer = torch.optim.Adam(\n",
    "        [dict(params=model.parameters(),\n",
    "                lr=config_dict['learning_rate_0']\n",
    "                ),\n",
    "            ])\n",
    "\n",
    "    lr_scheduler = None\n",
    "    # lr_scheduler = torch.optim.lr_scheduler.OneCycleLR(\n",
    "    #     optimizer, max_lr=0.01, steps_per_epoch=10, epochs=epochs, anneal_strategy='cos'\n",
    "    # )\n",
    "    # lr_scheduler = torch.optim.lr_scheduler.CosineAnnealingWarmRestarts(\n",
    "    #     optimizer, T_0=1, T_mult=2, eta_min=5e-5,\n",
    "    # )\n",
    "    # lr_scheduler = CustomCosineAnnealingWarmUpRestarts(\n",
    "    #     optimizer, T_0=20, T_mult=1, eta_max=0.1,  T_up=2, gamma=0.5\n",
    "    # )\n",
    "\n",
    "    # Run Train\n",
    "    train_manager = TrainManager()\n",
    "    train_manager.run_train(\n",
    "        model=model,\n",
    "        config_dict=config_dict,\n",
    "        data_loader=data_manager.train_data_loader,\n",
    "        val_loader=data_manager.val_data_loader,\n",
    "        criterion=criterion,\n",
    "        optimizer=optimizer,\n",
    "        lr_scheduler=lr_scheduler,\n",
    "        save_dir=save_dir,\n",
    "        file_name='best_model_target_' + '_'.join([v.lower() for v in target_classes[1:]]) +'.pt',\n",
    "        # file_name='best_model_1.pt'\n",
    "    )\n"
   ]
  }
 ],
 "metadata": {
  "interpreter": {
   "hash": "31f2aee4e71d21fbe5cf8b01ff0e069b9275f58929596ceb00d14d90e3e16cd6"
  },
  "kernelspec": {
   "display_name": "Python 3.8.10 64-bit",
   "name": "python3"
  },
  "language_info": {
   "codemirror_mode": {
    "name": "ipython",
    "version": 3
   },
   "file_extension": ".py",
   "mimetype": "text/x-python",
   "name": "python",
   "nbconvert_exporter": "python",
   "pygments_lexer": "ipython3",
   "version": "3.8.10"
  },
  "orig_nbformat": 4
 },
 "nbformat": 4,
 "nbformat_minor": 2
}
